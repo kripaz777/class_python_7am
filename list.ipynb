{
 "cells": [
  {
   "cell_type": "code",
   "execution_count": 1,
   "metadata": {},
   "outputs": [],
   "source": [
    "# Python data Collection\n",
    "# list\n",
    "# tuple\n",
    "# dictionaty\n",
    "# set"
   ]
  },
  {
   "cell_type": "code",
   "execution_count": 2,
   "metadata": {},
   "outputs": [],
   "source": [
    "# list\n",
    "a = list()\n",
    "b = []\n",
    "c = [\"Apple\",\"Ball\",\"Cat\",\"Dog\",\"Fish\"]\n"
   ]
  },
  {
   "cell_type": "code",
   "execution_count": 3,
   "metadata": {},
   "outputs": [],
   "source": [
    "# List\n",
    "# -Indexed\n",
    "# -Ordered\n",
    "# -Duplicate Members\n",
    "# -Mutable"
   ]
  },
  {
   "cell_type": "code",
   "execution_count": 6,
   "metadata": {},
   "outputs": [
    {
     "name": "stdout",
     "output_type": "stream",
     "text": [
      "Apple\n",
      "Fish\n"
     ]
    }
   ],
   "source": [
    "a = [\"Apple\",\"Ball\",\"Cat\",\"Dog\",\"Fish\"]\n",
    "print(a[0])\n",
    "print(a[-1])"
   ]
  },
  {
   "cell_type": "code",
   "execution_count": 9,
   "metadata": {},
   "outputs": [
    {
     "name": "stdout",
     "output_type": "stream",
     "text": [
      "['Apple', 'Ball', 'Cat']\n",
      "['Fish', 'Dog', 'Cat', 'Ball', 'Apple']\n"
     ]
    }
   ],
   "source": [
    "a = [\"Apple\",\"Ball\",\"Cat\",\"Dog\",\"Fish\"]\n",
    "print(a[0:3])\n",
    "print(a[-1::-1])"
   ]
  },
  {
   "cell_type": "code",
   "execution_count": 10,
   "metadata": {},
   "outputs": [
    {
     "name": "stdout",
     "output_type": "stream",
     "text": [
      "['Apple', 'Cat', 'Fish']\n"
     ]
    }
   ],
   "source": [
    "a = [\"Apple\",\"Ball\",\"Cat\",\"Dog\",\"Fish\"]\n",
    "print(a[0::2])"
   ]
  },
  {
   "cell_type": "code",
   "execution_count": 11,
   "metadata": {},
   "outputs": [
    {
     "name": "stdout",
     "output_type": "stream",
     "text": [
      "['Apple', 'Ball', 'Cat', 'Dog', 'Fish']\n"
     ]
    }
   ],
   "source": [
    "a = [\"Apple\",\"Ball\",\"Cat\",\"Dog\",\"Fish\"]\n",
    "print(a)"
   ]
  },
  {
   "cell_type": "code",
   "execution_count": 13,
   "metadata": {},
   "outputs": [
    {
     "name": "stdout",
     "output_type": "stream",
     "text": [
      "['Goat', 'Apple', 'Ball', 'Cat', 'Dog', 'Fish']\n"
     ]
    }
   ],
   "source": [
    "a = [\"Apple\",\"Ball\",\"Cat\",\"Dog\",\"Fish\"]\n",
    "b = [\"Goat\"]\n",
    "print(b+a)"
   ]
  },
  {
   "cell_type": "code",
   "execution_count": 14,
   "metadata": {},
   "outputs": [
    {
     "name": "stdout",
     "output_type": "stream",
     "text": [
      "[1, 1, 2, 2, 3, 3, 4, 4, 5, 5]\n"
     ]
    }
   ],
   "source": [
    "a = [1,1,2,2,3,3,4,4,5,5]\n",
    "print(a)"
   ]
  },
  {
   "cell_type": "code",
   "execution_count": 16,
   "metadata": {},
   "outputs": [
    {
     "name": "stdout",
     "output_type": "stream",
     "text": [
      "Apple\n",
      "Ball\n",
      "Cat\n",
      "Dog\n",
      "Fish\n"
     ]
    }
   ],
   "source": [
    "a = [\"Apple\",\"Ball\",\"Cat\",\"Dog\",\"Fish\"]\n",
    "l = len(a)\n",
    "for i in range(l):\n",
    "    print(a[i])"
   ]
  },
  {
   "cell_type": "code",
   "execution_count": 17,
   "metadata": {},
   "outputs": [
    {
     "name": "stdout",
     "output_type": "stream",
     "text": [
      "Apple\n",
      "Ball\n",
      "Cat\n",
      "Dog\n",
      "Fish\n"
     ]
    }
   ],
   "source": [
    "a = [\"Apple\",\"Ball\",\"Cat\",\"Dog\",\"Fish\"]\n",
    "l = len(a)\n",
    "for i in a:\n",
    "    print(i)"
   ]
  },
  {
   "cell_type": "code",
   "execution_count": 18,
   "metadata": {},
   "outputs": [
    {
     "name": "stdout",
     "output_type": "stream",
     "text": [
      "Apple\n",
      "Ball\n",
      "Cat\n"
     ]
    }
   ],
   "source": [
    "a = [\"Apple\",\"Ball\",\"Cat\",\"Dog\",\"Fish\",\"Ball\",\"Ball\"]\n",
    "for i in a:\n",
    "    if i == \"Dog\":\n",
    "        break\n",
    "    print(i)"
   ]
  },
  {
   "cell_type": "code",
   "execution_count": 19,
   "metadata": {},
   "outputs": [
    {
     "name": "stdout",
     "output_type": "stream",
     "text": [
      "Apple\n",
      "Ball\n",
      "Cat\n",
      "Fish\n",
      "Ball\n",
      "Ball\n"
     ]
    }
   ],
   "source": [
    "a = [\"Apple\",\"Ball\",\"Cat\",\"Dog\",\"Fish\",\"Ball\",\"Ball\"]\n",
    "for i in a:\n",
    "    if i == \"Dog\":\n",
    "        continue\n",
    "    print(i)"
   ]
  },
  {
   "cell_type": "code",
   "execution_count": 24,
   "metadata": {},
   "outputs": [
    {
     "data": {
      "text/plain": [
       "['Ram', 'Shyam', 'Hari', 'SIta', 'Gita', 'Ram']"
      ]
     },
     "execution_count": 24,
     "metadata": {},
     "output_type": "execute_result"
    }
   ],
   "source": [
    "a = \"Ram,Shyam,Hari,SIta,Gita,Ram\"\n",
    "a.split(',')"
   ]
  },
  {
   "cell_type": "code",
   "execution_count": 25,
   "metadata": {},
   "outputs": [
    {
     "name": "stdout",
     "output_type": "stream",
     "text": [
      "['Coke 100 3 300', 'Fanta 200 3 600']\n"
     ]
    }
   ],
   "source": [
    "a = \"Coke 100 3 300\\nFanta 200 3 600\"\n",
    "print(a.split('\\n'))"
   ]
  },
  {
   "cell_type": "code",
   "execution_count": 26,
   "metadata": {},
   "outputs": [
    {
     "name": "stdout",
     "output_type": "stream",
     "text": [
      "[1, 2, 3, 4, 1, 2, 3, 4]\n"
     ]
    }
   ],
   "source": [
    "a = [1,2,3,4]\n",
    "print(a*2)"
   ]
  },
  {
   "cell_type": "code",
   "execution_count": 27,
   "metadata": {},
   "outputs": [
    {
     "data": {
      "text/plain": [
       "8"
      ]
     },
     "execution_count": 27,
     "metadata": {},
     "output_type": "execute_result"
    }
   ],
   "source": [
    "l = len(a)\n",
    "l*2"
   ]
  },
  {
   "cell_type": "code",
   "execution_count": 30,
   "metadata": {},
   "outputs": [
    {
     "name": "stdout",
     "output_type": "stream",
     "text": [
      "['Ram Prasad', 'Shyam', 'Hari', 'SIta', 'Gita', 'Ram']\n"
     ]
    }
   ],
   "source": [
    "a = \"Ram,Shyam,Hari,SIta,Gita,Ram\"\n",
    "b = a.split(',')\n",
    "b[0] = \"Ram Prasad\"\n",
    "print(b)"
   ]
  },
  {
   "cell_type": "code",
   "execution_count": 32,
   "metadata": {},
   "outputs": [
    {
     "name": "stdout",
     "output_type": "stream",
     "text": [
      "['Ant', 'Ball', 'Cat', 'Dog', 'Fish', 'Ball', 'Ball']\n"
     ]
    }
   ],
   "source": [
    "a = [\"Apple\",\"Ball\",\"Cat\",\"Dog\",\"Fish\",\"Ball\",\"Ball\"]\n",
    "a[0] = \"Ant\"\n",
    "print(a)"
   ]
  },
  {
   "cell_type": "code",
   "execution_count": 34,
   "metadata": {},
   "outputs": [
    {
     "name": "stdout",
     "output_type": "stream",
     "text": [
      "Enter n = 5\n",
      "Enter name = Ram\n",
      "Enter name = Shyam\n",
      "Enter name = Hari\n",
      "Enter name = Nita\n",
      "Enter name = Gita\n",
      "['Ram', 'Shyam', 'Hari', 'Nita', 'Gita']\n"
     ]
    }
   ],
   "source": [
    "info = []\n",
    "n = int(input(\"Enter n = \"))\n",
    "for i in range(n):\n",
    "    name = input(\"Enter name = \")\n",
    "    info = info +[name]\n",
    "    \n",
    "print(info)"
   ]
  },
  {
   "cell_type": "code",
   "execution_count": 35,
   "metadata": {},
   "outputs": [
    {
     "data": {
      "text/plain": [
       "'A'"
      ]
     },
     "execution_count": 35,
     "metadata": {},
     "output_type": "execute_result"
    }
   ],
   "source": [
    "a = [\"Apple\",2,5.4,\"Banana\"]"
   ]
  },
  {
   "cell_type": "code",
   "execution_count": 4,
   "metadata": {},
   "outputs": [
    {
     "name": "stdout",
     "output_type": "stream",
     "text": [
      "79214\n",
      "76876\n",
      "3\n",
      "[3, 45, 67, 234, 243, 768, 978, 76876]\n",
      "[76876, 978, 768, 243, 234, 67, 45, 3]\n"
     ]
    }
   ],
   "source": [
    "a = [3,45,67,768,243,76876,978,234]\n",
    "print(sum(a))\n",
    "print(max(a))\n",
    "print(min(a))\n",
    "a.sort()\n",
    "print(a)\n",
    "a.reverse()\n",
    "print(a)"
   ]
  },
  {
   "cell_type": "code",
   "execution_count": 8,
   "metadata": {},
   "outputs": [
    {
     "name": "stdout",
     "output_type": "stream",
     "text": [
      "['.food', '1Rose', '2', 'Apple', 'Xray', 'Zebra', 'ball']\n"
     ]
    }
   ],
   "source": [
    "a = [\"Apple\",\"Zebra\",\"ball\",\"Xray\",\"1Rose\",\".food\",\"2\"]\n",
    "a.sort()\n",
    "print(a)"
   ]
  },
  {
   "cell_type": "code",
   "execution_count": 9,
   "metadata": {},
   "outputs": [
    {
     "name": "stdout",
     "output_type": "stream",
     "text": [
      "['.food', '1Rose', '2', 'Apple', 'Xray', 'Zebra', 'ball']\n",
      "['Apple', 'Zebra', 'ball', 'Xray', '1Rose', '.food', '2']\n"
     ]
    }
   ],
   "source": [
    "# sorted()\n",
    "a = [\"Apple\",\"Zebra\",\"ball\",\"Xray\",\"1Rose\",\".food\",\"2\"]\n",
    "print(sorted(a))\n",
    "print(a)"
   ]
  },
  {
   "cell_type": "code",
   "execution_count": 10,
   "metadata": {},
   "outputs": [
    {
     "name": "stdout",
     "output_type": "stream",
     "text": [
      "['Apple', 'Zebra', 'ball', 'Xray', '1Rose', '.food', '2', 'Fish']\n"
     ]
    }
   ],
   "source": [
    "#append() insert()\n",
    "a = [\"Apple\",\"Zebra\",\"ball\",\"Xray\",\"1Rose\",\".food\",\"2\"]\n",
    "a.append(\"Fish\")\n",
    "print(a)"
   ]
  },
  {
   "cell_type": "code",
   "execution_count": 11,
   "metadata": {},
   "outputs": [
    {
     "name": "stdout",
     "output_type": "stream",
     "text": [
      "['Apple', 'Zebra', 'ball', 'Fish', 'Xray', '1Rose', '.food', '2']\n"
     ]
    }
   ],
   "source": [
    "a = [\"Apple\",\"Zebra\",\"ball\",\"Xray\",\"1Rose\",\".food\",\"2\"]\n",
    "a.insert(3,\"Fish\")\n",
    "print(a)"
   ]
  },
  {
   "cell_type": "code",
   "execution_count": 12,
   "metadata": {},
   "outputs": [
    {
     "name": "stdout",
     "output_type": "stream",
     "text": [
      "Enter n = 2\n",
      "Enter name = Ram\n",
      "Enter name = Shyam\n",
      "['Ram', 'Shyam']\n"
     ]
    }
   ],
   "source": [
    "info = []\n",
    "n = int(input(\"Enter n = \"))\n",
    "for i in range(n):\n",
    "    name = input(\"Enter name = \")\n",
    "    info.append(name)\n",
    "    \n",
    "print(info)"
   ]
  },
  {
   "cell_type": "code",
   "execution_count": 13,
   "metadata": {},
   "outputs": [
    {
     "name": "stdout",
     "output_type": "stream",
     "text": [
      "8\n"
     ]
    }
   ],
   "source": [
    "a = [1,22,3,4,5,6,3,4]\n",
    "l = len(a)\n",
    "print(l)"
   ]
  },
  {
   "cell_type": "code",
   "execution_count": 16,
   "metadata": {},
   "outputs": [
    {
     "name": "stdout",
     "output_type": "stream",
     "text": [
      "4\n"
     ]
    }
   ],
   "source": [
    "a = [1,22,3,4,5,6,3,4,4,4]\n",
    "l = a.count(4)\n",
    "print(l)"
   ]
  },
  {
   "cell_type": "code",
   "execution_count": 19,
   "metadata": {},
   "outputs": [
    {
     "name": "stdout",
     "output_type": "stream",
     "text": [
      "2\n"
     ]
    }
   ],
   "source": [
    "a = [\"Apple\",\"Zebra\",\"ball\",\"Xray\",\"1Rose\",\".food\",\"2\"]\n",
    "print(a.index(\"ball\"))"
   ]
  },
  {
   "cell_type": "code",
   "execution_count": 21,
   "metadata": {},
   "outputs": [
    {
     "name": "stdout",
     "output_type": "stream",
     "text": [
      "2\n",
      "7\n"
     ]
    }
   ],
   "source": [
    "a = [\"Apple\",\"Zebra\",\"ball\",\"Xray\",\"1Rose\",\".food\",\"2\",\"ball\"]\n",
    "l = len(a)\n",
    "for i in range(l):\n",
    "    if a[i] == \"ball\":\n",
    "        print(i)"
   ]
  },
  {
   "cell_type": "code",
   "execution_count": 25,
   "metadata": {},
   "outputs": [
    {
     "name": "stdout",
     "output_type": "stream",
     "text": [
      "['Apple', 'Zebra', 'Ball', 'Xray', '1Rose', '.food', '2', 'Ball']\n"
     ]
    }
   ],
   "source": [
    "a = [\"Apple\",\"Zebra\",\"ball\",\"Xray\",\"1Rose\",\".food\",\"2\",\"ball\"]\n",
    "a[2] = \"Ball\"\n",
    "a[-1] = \"Ball\"\n",
    "print(a)"
   ]
  },
  {
   "cell_type": "code",
   "execution_count": 28,
   "metadata": {},
   "outputs": [
    {
     "name": "stdout",
     "output_type": "stream",
     "text": [
      "Enter x = ball\n",
      "Enter y = Ball\n",
      "['Apple', 'Zebra', 'Ball', 'Xray', '1Rose', '.food', '2', 'Ball']\n"
     ]
    }
   ],
   "source": [
    "a = [\"Apple\",\"Zebra\",\"ball\",\"Xray\",\"1Rose\",\".food\",\"2\",\"ball\"]\n",
    "l = len(a)\n",
    "x = input(\"Enter x = \")\n",
    "y = input(\"Enter y = \")\n",
    "for i in range(l):\n",
    "    if a[i] == x:\n",
    "        a[i] = y\n",
    "        \n",
    "print(a)"
   ]
  },
  {
   "cell_type": "code",
   "execution_count": 30,
   "metadata": {},
   "outputs": [
    {
     "name": "stdout",
     "output_type": "stream",
     "text": [
      "Enter index = 3\n",
      "['Apple', 'Zebra', 'Ball', '1Rose', '.food', '2', 'Ball']\n"
     ]
    }
   ],
   "source": [
    "#del remove() pop()\n",
    "a = ['Apple', 'Zebra', 'Ball', 'Xray', '1Rose', '.food', '2', 'Ball']\n",
    "i = int(input(\"Enter index = \"))\n",
    "del a[i]\n",
    "print(a)"
   ]
  },
  {
   "cell_type": "code",
   "execution_count": 32,
   "metadata": {},
   "outputs": [
    {
     "name": "stdout",
     "output_type": "stream",
     "text": [
      "['Xray', '1Rose', '.food', '2', 'Ball']\n"
     ]
    }
   ],
   "source": [
    "a = ['Apple', 'Zebra', 'Ball', 'Xray', '1Rose', '.food', '2', 'Ball']\n",
    "del a[0:3]\n",
    "print(a)"
   ]
  },
  {
   "cell_type": "code",
   "execution_count": 33,
   "metadata": {},
   "outputs": [
    {
     "name": "stdout",
     "output_type": "stream",
     "text": [
      "['Apple', 'Zebra', 'Xray', '1Rose', '.food', '2', 'Ball']\n"
     ]
    }
   ],
   "source": [
    "a = ['Apple', 'Zebra', 'Ball', 'Xray', '1Rose', '.food', '2', 'Ball']\n",
    "a.remove(\"Ball\")\n",
    "print(a)"
   ]
  },
  {
   "cell_type": "code",
   "execution_count": 35,
   "metadata": {},
   "outputs": [
    {
     "name": "stdout",
     "output_type": "stream",
     "text": [
      "['Apple', 'Zebra', 'Ball', 'Xray', '1Rose', '.food', '2']\n"
     ]
    }
   ],
   "source": [
    "a = ['Apple', 'Zebra', 'Ball', 'Xray', '1Rose', '.food', '2', 'Ball']\n",
    "a.pop()\n",
    "print(a)"
   ]
  },
  {
   "cell_type": "code",
   "execution_count": 37,
   "metadata": {},
   "outputs": [
    {
     "name": "stdout",
     "output_type": "stream",
     "text": [
      "['Apple', 'Zebra', 'Ball', '1Rose', '.food', '2', 'Ball']\n",
      "Xray\n"
     ]
    }
   ],
   "source": [
    "a = ['Apple', 'Zebra', 'Ball', 'Xray', '1Rose', '.food', '2', 'Ball']\n",
    "b = a.pop(3)\n",
    "print(a)\n",
    "print(b)"
   ]
  },
  {
   "cell_type": "code",
   "execution_count": 41,
   "metadata": {},
   "outputs": [
    {
     "name": "stdout",
     "output_type": "stream",
     "text": [
      "['Apple', 'Zebra', 'Xray', 'Ball', '.food', '2', 'Ball']\n",
      "['Apple', 'Zebra', 'Xray', '.food', '2', 'Ball']\n",
      "['Apple', 'Zebra', 'Xray', '.food', '2']\n"
     ]
    }
   ],
   "source": [
    "a = ['Apple', 'Zebra', 'Ball', 'Xray', 'Ball', '.food', '2', 'Ball']\n",
    "l = a.count(\"Ball\")\n",
    "for i in range(l):\n",
    "    a.remove(\"Ball\")\n",
    "    \n",
    "    print(a)"
   ]
  },
  {
   "cell_type": "code",
   "execution_count": 42,
   "metadata": {},
   "outputs": [
    {
     "name": "stdout",
     "output_type": "stream",
     "text": [
      "['Apple', 'Zebra', 'Xray', '.food', '2']\n"
     ]
    }
   ],
   "source": [
    "b = []\n",
    "a = ['Apple', 'Zebra', 'Ball', 'Xray', 'Ball', '.food', '2', 'Ball']\n",
    "for i in range(len(a)):\n",
    "    if a[i] == \"Ball\":\n",
    "        continue\n",
    "    b.append(a[i])\n",
    "print(b)"
   ]
  },
  {
   "cell_type": "code",
   "execution_count": 44,
   "metadata": {},
   "outputs": [
    {
     "name": "stdout",
     "output_type": "stream",
     "text": [
      "['apple', 'zebra', 'ball', 'xray', 'ball', '.food', '2', 'ball']\n"
     ]
    }
   ],
   "source": [
    "b = []\n",
    "a = ['Apple', 'Zebra', 'Ball', 'Xray', 'ball', '.food', '2', 'Ball']\n",
    "for i in a:\n",
    "    x = i.lower()\n",
    "    b.append(x)\n",
    "    \n",
    "print(b)"
   ]
  },
  {
   "cell_type": "code",
   "execution_count": 47,
   "metadata": {},
   "outputs": [
    {
     "name": "stdout",
     "output_type": "stream",
     "text": [
      "Enter c = ball\n",
      "3\n",
      "['Ball', 'ball', 'Ball']\n"
     ]
    }
   ],
   "source": [
    "b = 0\n",
    "index = []\n",
    "c = input(\"Enter c = \")\n",
    "a = ['Apple', 'Zebra', 'Ball', 'Xray', 'ball', '.food', '2', 'Ball']\n",
    "for i in a:\n",
    "    x = i.lower()\n",
    "    if x == c.lower():\n",
    "        b = b+1\n",
    "        index.append(i)\n",
    "    \n",
    "print(b)\n",
    "print(index)"
   ]
  },
  {
   "cell_type": "code",
   "execution_count": 48,
   "metadata": {},
   "outputs": [
    {
     "name": "stdout",
     "output_type": "stream",
     "text": [
      "Enter c = ball\n",
      "3\n",
      "[2, 4, 7]\n"
     ]
    }
   ],
   "source": [
    "b = 0\n",
    "index = []\n",
    "c = input(\"Enter c = \")\n",
    "a = ['Apple', 'Zebra', 'Ball', 'Xray', 'ball', '.food', '2', 'Ball']\n",
    "for i in range(len(a)):\n",
    "    x = a[i].lower()\n",
    "    if x == c.lower():\n",
    "        b = b+1\n",
    "        index.append(i)\n",
    "    \n",
    "print(b)\n",
    "print(index)"
   ]
  },
  {
   "cell_type": "code",
   "execution_count": 2,
   "metadata": {},
   "outputs": [
    {
     "name": "stdout",
     "output_type": "stream",
     "text": [
      "3\n"
     ]
    }
   ],
   "source": [
    "# list inside list\n",
    "d = [[1,2,3],[4,5,6],[7,8,9]]\n",
    "print(len(d))"
   ]
  },
  {
   "cell_type": "code",
   "execution_count": 4,
   "metadata": {},
   "outputs": [
    {
     "data": {
      "text/plain": [
       "1"
      ]
     },
     "execution_count": 4,
     "metadata": {},
     "output_type": "execute_result"
    }
   ],
   "source": [
    "d[0][0]"
   ]
  },
  {
   "cell_type": "code",
   "execution_count": 6,
   "metadata": {},
   "outputs": [
    {
     "data": {
      "text/plain": [
       "[[1, 2, 3], [4, 5, 6]]"
      ]
     },
     "execution_count": 6,
     "metadata": {},
     "output_type": "execute_result"
    }
   ],
   "source": [
    "d[0:2]"
   ]
  },
  {
   "cell_type": "code",
   "execution_count": 7,
   "metadata": {},
   "outputs": [
    {
     "name": "stdout",
     "output_type": "stream",
     "text": [
      "[[1, 2, 3], [4, 5, 6], [7, 8, 9]]\n"
     ]
    }
   ],
   "source": [
    "a = [[1,2,3],[4,5,6]]\n",
    "b = [[7,8,9]]\n",
    "print(a+b)"
   ]
  },
  {
   "cell_type": "code",
   "execution_count": 5,
   "metadata": {},
   "outputs": [
    {
     "name": "stdout",
     "output_type": "stream",
     "text": [
      "[[1, 2, 3], [4, 5, 6], 7, 8, 9]\n"
     ]
    }
   ],
   "source": [
    "a = [[1,2,3],[4,5,6]]\n",
    "b = [7,8,9]\n",
    "print(a+b)"
   ]
  },
  {
   "cell_type": "code",
   "execution_count": 8,
   "metadata": {},
   "outputs": [
    {
     "name": "stdout",
     "output_type": "stream",
     "text": [
      "[[1, 2, 3], [4, 5, 6], [1, 2, 3], [4, 5, 6], [1, 2, 3], [4, 5, 6]]\n"
     ]
    }
   ],
   "source": [
    "a = [[1,2,3],[4,5,6]]\n",
    "print(a*3)"
   ]
  },
  {
   "cell_type": "code",
   "execution_count": 11,
   "metadata": {},
   "outputs": [
    {
     "name": "stdout",
     "output_type": "stream",
     "text": [
      "Enter n = 2\n",
      "Enter name = Ram\n",
      "Enter age = 45\n",
      "Enter address = Kathmandu\n",
      "Enter name = Shyam\n",
      "Enter age = 45\n",
      "Enter address = Patan\n",
      "[['Ram', 45, 'Kathmandu'], ['Shyam', 45, 'Patan']]\n"
     ]
    }
   ],
   "source": [
    "info = []\n",
    "n = int(input(\"Enter n = \"))\n",
    "for i in range(n):\n",
    "    name = input(\"Enter name = \")\n",
    "    age = int(input(\"Enter age = \"))\n",
    "    add = input(\"Enter address = \")\n",
    "    data = [name,age,add]\n",
    "    info.append(data)\n",
    "    \n",
    "print(info)"
   ]
  },
  {
   "cell_type": "code",
   "execution_count": 12,
   "metadata": {},
   "outputs": [
    {
     "name": "stdout",
     "output_type": "stream",
     "text": [
      "Enter index = 0\n",
      "['Ram', 45, 'Kathmandu']\n"
     ]
    }
   ],
   "source": [
    "index = int(input(\"Enter index = \"))\n",
    "print(info[index])"
   ]
  },
  {
   "cell_type": "code",
   "execution_count": 7,
   "metadata": {},
   "outputs": [
    {
     "name": "stdout",
     "output_type": "stream",
     "text": [
      "['Ram', 45, 'Kathmandu']\n",
      "['Shyam', 45, 'Patan']\n",
      "['Hari', 34, 'Kathmandu']\n"
     ]
    }
   ],
   "source": [
    "a = [['Ram', 45, 'Kathmandu'], \n",
    "     ['Shyam', 45, 'Patan'],\n",
    "     ['Hari',34,'Kathmandu']]\n",
    "for i in a:\n",
    "    print(i)"
   ]
  },
  {
   "cell_type": "code",
   "execution_count": 8,
   "metadata": {},
   "outputs": [
    {
     "name": "stdout",
     "output_type": "stream",
     "text": [
      "Enter name = Ram\n",
      "['Ram', 45, 'Kathmandu']\n"
     ]
    }
   ],
   "source": [
    "name = input(\"Enter name = \")\n",
    "for i in a:\n",
    "    if name in i:\n",
    "        print(i)"
   ]
  },
  {
   "cell_type": "code",
   "execution_count": null,
   "metadata": {},
   "outputs": [],
   "source": [
    "a = [[1,2,3],[0,5,6]]"
   ]
  },
  {
   "cell_type": "code",
   "execution_count": 17,
   "metadata": {},
   "outputs": [
    {
     "name": "stdout",
     "output_type": "stream",
     "text": [
      "Enter n = 2\n",
      "Enter name = Apple\n",
      "Enter price = 100\n",
      "Enter qty = 3\n",
      "Enter name = Ball\n",
      "Enter price = 29\n",
      "Enter qty = 4\n",
      "[['Apple', 100, 3, 300], ['Ball', 29, 4, 116]]\n"
     ]
    }
   ],
   "source": [
    "bill = []\n",
    "net_price = 0\n",
    "n = int(input(\"Enter n = \"))\n",
    "for i in range(n):\n",
    "    name = input(\"Enter name = \")\n",
    "    price = int(input(\"Enter price = \"))\n",
    "    qty = int(input(\"Enter qty = \"))\n",
    "    total = price*qty\n",
    "    data = [name,price,qty,total]\n",
    "    bill.append(data)\n",
    "    net_price = net_price+total\n",
    "print(bill)"
   ]
  },
  {
   "cell_type": "code",
   "execution_count": 18,
   "metadata": {},
   "outputs": [
    {
     "name": "stdout",
     "output_type": "stream",
     "text": [
      "416\n"
     ]
    }
   ],
   "source": [
    "print(net_price)"
   ]
  },
  {
   "cell_type": "code",
   "execution_count": 10,
   "metadata": {},
   "outputs": [
    {
     "name": "stdout",
     "output_type": "stream",
     "text": [
      "[['Rama', 12, 'Patan'], ['Shyam', 45, 'Patan'], ['Hari', 34, 'Kathmandu']]\n"
     ]
    }
   ],
   "source": [
    "a = [['Ram', 45, 'Kathmandu'], \n",
    "     ['Shyam', 45, 'Patan'],\n",
    "     ['Hari',34,'Kathmandu']]\n",
    "a[0] = [\"Rama\",12,\"Patan\"]\n",
    "print(a)"
   ]
  },
  {
   "cell_type": "code",
   "execution_count": 22,
   "metadata": {},
   "outputs": [
    {
     "name": "stdout",
     "output_type": "stream",
     "text": [
      "[['Nabin', 45, 'Kathmandu'], ['Shyam', 45, 'Patan'], ['Hari', 34, 'Kathmandu']]\n"
     ]
    }
   ],
   "source": [
    "a = [['Ram', 45, 'Kathmandu'], \n",
    "     ['Shyam', 45, 'Patan'],\n",
    "     ['Hari',34,'Kathmandu']]\n",
    "a[0][0] = \"Nabin\"\n",
    "print(a)"
   ]
  },
  {
   "cell_type": "code",
   "execution_count": 11,
   "metadata": {},
   "outputs": [
    {
     "data": {
      "text/plain": [
       "[[45, 'Kathmandu'], ['Shyam', 45, 'Patan'], ['Hari', 34, 'Kathmandu']]"
      ]
     },
     "execution_count": 11,
     "metadata": {},
     "output_type": "execute_result"
    }
   ],
   "source": [
    "a = [['Ram', 45, 'Kathmandu'],\n",
    "     ['Shyam', 45, 'Patan'],\n",
    "     ['Hari',34,'Kathmandu']]\n",
    "del a[0][0]\n",
    "a"
   ]
  },
  {
   "cell_type": "code",
   "execution_count": 13,
   "metadata": {},
   "outputs": [
    {
     "data": {
      "text/plain": [
       "[['Ram', 45, 'Kathmandu'], ['Shyam', 45, 'Patan'], ['Hari', 34, 'Kathmandu']]"
      ]
     },
     "execution_count": 13,
     "metadata": {},
     "output_type": "execute_result"
    }
   ],
   "source": [
    "a[0].insert(0,\"Ram\")\n",
    "a"
   ]
  },
  {
   "cell_type": "code",
   "execution_count": 14,
   "metadata": {},
   "outputs": [
    {
     "data": {
      "text/plain": [
       "[[45, 'Kathmandu', 'Ram'], ['Shyam', 45, 'Patan'], ['Hari', 34, 'Kathmandu']]"
      ]
     },
     "execution_count": 14,
     "metadata": {},
     "output_type": "execute_result"
    }
   ],
   "source": [
    "a = [[45, 'Kathmandu'], ['Shyam', 45, 'Patan'], ['Hari', 34, 'Kathmandu']]\n",
    "a[0].append(\"Ram\")\n",
    "a"
   ]
  },
  {
   "cell_type": "code",
   "execution_count": 15,
   "metadata": {},
   "outputs": [
    {
     "data": {
      "text/plain": [
       "[['', 45, 'Kathmandu'], ['Shyam', 45, 'Patan'], ['Hari', 34, 'Kathmandu']]"
      ]
     },
     "execution_count": 15,
     "metadata": {},
     "output_type": "execute_result"
    }
   ],
   "source": [
    "a = [['Ram', 45, 'Kathmandu'],\n",
    "     ['Shyam', 45, 'Patan'],\n",
    "     ['Hari',34,'Kathmandu']]\n",
    "a[0][0] = \"\"\n",
    "a"
   ]
  },
  {
   "cell_type": "code",
   "execution_count": 16,
   "metadata": {},
   "outputs": [
    {
     "name": "stdout",
     "output_type": "stream",
     "text": [
      "Entre n = 2\n",
      "Enter name = Apple\n",
      "Enter price = 200\n",
      "Enter quantity = 2\n",
      "Enter name = Coke\n",
      "Enter price = 2\n",
      "Enter quantity = 50\n",
      "Apple 200 2 400\n",
      "Coke 2 50 100\n",
      "\n"
     ]
    }
   ],
   "source": [
    "n = int(input(\"Entre n = \"))\n",
    "data = str()\n",
    "grand_total = 0\n",
    "for i in range(n):\n",
    "    name = input(\"Enter name = \")\n",
    "    price = int(input(\"Enter price = \"))\n",
    "    quantity = int(input(\"Enter quantity = \"))\n",
    "    total  = price*quantity\n",
    "\n",
    "    info = f\"{name} {price} {quantity} {total}\\n\"\n",
    "    data = data+info\n",
    "    grand_total = grand_total+total\n",
    "print(data)"
   ]
  },
  {
   "cell_type": "code",
   "execution_count": 24,
   "metadata": {},
   "outputs": [
    {
     "name": "stdout",
     "output_type": "stream",
     "text": [
      "[['Apple', '200', '2', '400'], ['Coke', '2', '50', '100']]\n"
     ]
    }
   ],
   "source": [
    "output = []\n",
    "l= data.split('\\n')[:-1]\n",
    "for i in l:\n",
    "    x = i.split()\n",
    "    output.append(x)\n",
    "    \n",
    "print(output)"
   ]
  },
  {
   "cell_type": "code",
   "execution_count": 26,
   "metadata": {},
   "outputs": [
    {
     "data": {
      "text/plain": [
       "['Apple 200 2 400', 'Coke 2 50 100', '']"
      ]
     },
     "execution_count": 26,
     "metadata": {},
     "output_type": "execute_result"
    }
   ],
   "source": [
    "l= data.split('\\n')\n",
    "l"
   ]
  },
  {
   "cell_type": "code",
   "execution_count": 27,
   "metadata": {},
   "outputs": [
    {
     "name": "stdout",
     "output_type": "stream",
     "text": [
      "['Shyam', 45, 'Patan']\n",
      "['Hari', 34, 'Kathmandu']\n"
     ]
    }
   ],
   "source": [
    "a = [['Ram', 45, 'Kathmandu'],\n",
    "     ['Shyam', 45, 'Patan'],\n",
    "     ['Hari',34,'Kathmandu']]\n",
    "for i in a:\n",
    "    if \"Ram\" in i:\n",
    "        continue\n",
    "    print(i)\n",
    "        "
   ]
  },
  {
   "cell_type": "code",
   "execution_count": 31,
   "metadata": {},
   "outputs": [
    {
     "name": "stdout",
     "output_type": "stream",
     "text": [
      "['Shyam', 45, 'Patan']\n",
      "['Hari', 34, 'Kathmandu']\n"
     ]
    }
   ],
   "source": [
    "a = [['Ram', 45, 'Kathmandu'],\n",
    "     ['Shyam', 45, 'Patan'],\n",
    "     ['Hari',34,'Kathmandu']]\n",
    "l = len(a)\n",
    "for i in range(l):\n",
    "    if a[i][0] == \"Ram\":\n",
    "        continue\n",
    "    print(a[i])"
   ]
  },
  {
   "cell_type": "code",
   "execution_count": 32,
   "metadata": {},
   "outputs": [
    {
     "data": {
      "text/plain": [
       "2"
      ]
     },
     "execution_count": 32,
     "metadata": {},
     "output_type": "execute_result"
    }
   ],
   "source": [
    "a = [['Ram', 45, 'Kathmandu'],\n",
    "     ['Shyam', 45, 'Patan'],\n",
    "     ['Hari',34,'Kathmandu'],\n",
    "    ['Hari',34,'Kathmandu']]\n",
    "\n",
    "a.count(['Hari',34,'Kathmandu'])"
   ]
  },
  {
   "cell_type": "code",
   "execution_count": 34,
   "metadata": {},
   "outputs": [
    {
     "data": {
      "text/plain": [
       "[['Ram', 45, 'Kathmandu'], ['Shyam', 45, 'Patan'], ['Hari', 34, 'Kathmandu']]"
      ]
     },
     "execution_count": 34,
     "metadata": {},
     "output_type": "execute_result"
    }
   ],
   "source": [
    "a = [['Ram', 45, 'Kathmandu'],\n",
    "     ['Shyam', 45, 'Patan'],\n",
    "     ['Hari',34,'Kathmandu'],\n",
    "    ['Hari',34,'Kathmandu']]\n",
    "a.remove(a[3])\n",
    "a"
   ]
  },
  {
   "cell_type": "code",
   "execution_count": 36,
   "metadata": {},
   "outputs": [
    {
     "name": "stdout",
     "output_type": "stream",
     "text": [
      "['Hari', 34, 'Kathmandu']\n"
     ]
    }
   ],
   "source": [
    "a = [['Ram', 45, 'Kathmandu'],\n",
    "     ['Shyam', 45, 'Patan'],\n",
    "     ['Hari',34,'Kathmandu'],\n",
    "    ['Hari',34,'Kathmandu']]\n",
    "\n",
    "x = ['Hari',34,'Kathmandu']\n",
    "a.count(x)\n",
    "for i in a:\n",
    "    if i == x:\n",
    "        a.remove(i)\n",
    "print(i)"
   ]
  },
  {
   "cell_type": "code",
   "execution_count": 43,
   "metadata": {},
   "outputs": [
    {
     "name": "stdout",
     "output_type": "stream",
     "text": [
      "[['Ram', 45, 'Kathmandu'], ['Shyam', 45, 'Patan']]\n"
     ]
    }
   ],
   "source": [
    "b = []\n",
    "a = [['Ram', 45, 'Kathmandu'],\n",
    "     ['Shyam', 45, 'Patan'],\n",
    "     ['Hari',34,'Kathmandu'],\n",
    "    ['Hari',34,'Kathmandu']]\n",
    "\n",
    "x = ['Hari',34,'Kathmandu']\n",
    "n = len(a)\n",
    "for i in range(n):\n",
    "    if a[i] != x:\n",
    "        b.append(a[i])\n",
    "print(b)"
   ]
  },
  {
   "cell_type": "code",
   "execution_count": null,
   "metadata": {},
   "outputs": [],
   "source": []
  }
 ],
 "metadata": {
  "kernelspec": {
   "display_name": "Python 3",
   "language": "python",
   "name": "python3"
  },
  "language_info": {
   "codemirror_mode": {
    "name": "ipython",
    "version": 3
   },
   "file_extension": ".py",
   "mimetype": "text/x-python",
   "name": "python",
   "nbconvert_exporter": "python",
   "pygments_lexer": "ipython3",
   "version": "3.7.1"
  }
 },
 "nbformat": 4,
 "nbformat_minor": 2
}
