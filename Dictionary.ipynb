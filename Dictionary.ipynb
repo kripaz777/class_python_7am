{
 "cells": [
  {
   "cell_type": "code",
   "execution_count": 1,
   "metadata": {},
   "outputs": [],
   "source": [
    "# Dictionary\n",
    "# -Indexed\n",
    "# -Ordered\n",
    "# -Duplicate value\n",
    "# -Mutable"
   ]
  },
  {
   "cell_type": "code",
   "execution_count": 2,
   "metadata": {},
   "outputs": [],
   "source": [
    "# a = {<key>:<value>,<key>:<value>,....}\n"
   ]
  },
  {
   "cell_type": "code",
   "execution_count": 3,
   "metadata": {},
   "outputs": [
    {
     "name": "stdout",
     "output_type": "stream",
     "text": [
      "<class 'dict'>\n"
     ]
    }
   ],
   "source": [
    "a = {\"a\":\"Apple\",\"b\":\"Ball\"}\n",
    "print(type(a))"
   ]
  },
  {
   "cell_type": "code",
   "execution_count": 4,
   "metadata": {},
   "outputs": [
    {
     "name": "stdout",
     "output_type": "stream",
     "text": [
      "<class 'dict'>\n"
     ]
    }
   ],
   "source": [
    "a = {}\n",
    "print(type(a))"
   ]
  },
  {
   "cell_type": "code",
   "execution_count": 6,
   "metadata": {},
   "outputs": [
    {
     "name": "stdout",
     "output_type": "stream",
     "text": [
      "Apple\n"
     ]
    }
   ],
   "source": [
    "a = {\"a\":\"Apple\",\"b\":\"Ball\",\"c\":\"Cat\"}\n",
    "print(a[\"a\"])"
   ]
  },
  {
   "cell_type": "code",
   "execution_count": 7,
   "metadata": {},
   "outputs": [
    {
     "ename": "TypeError",
     "evalue": "unhashable type: 'slice'",
     "output_type": "error",
     "traceback": [
      "\u001b[1;31m---------------------------------------------------------------------------\u001b[0m",
      "\u001b[1;31mTypeError\u001b[0m                                 Traceback (most recent call last)",
      "\u001b[1;32m<ipython-input-7-597d2cfaad15>\u001b[0m in \u001b[0;36m<module>\u001b[1;34m\u001b[0m\n\u001b[0;32m      1\u001b[0m \u001b[0ma\u001b[0m \u001b[1;33m=\u001b[0m \u001b[1;33m{\u001b[0m\u001b[1;34m\"a\"\u001b[0m\u001b[1;33m:\u001b[0m\u001b[1;34m\"Apple\"\u001b[0m\u001b[1;33m,\u001b[0m\u001b[1;34m\"b\"\u001b[0m\u001b[1;33m:\u001b[0m\u001b[1;34m\"Ball\"\u001b[0m\u001b[1;33m,\u001b[0m\u001b[1;34m\"c\"\u001b[0m\u001b[1;33m:\u001b[0m\u001b[1;34m\"Cat\"\u001b[0m\u001b[1;33m}\u001b[0m\u001b[1;33m\u001b[0m\u001b[1;33m\u001b[0m\u001b[0m\n\u001b[1;32m----> 2\u001b[1;33m \u001b[0mprint\u001b[0m\u001b[1;33m(\u001b[0m\u001b[0ma\u001b[0m\u001b[1;33m[\u001b[0m\u001b[1;34m\"a\"\u001b[0m\u001b[1;33m:\u001b[0m\u001b[1;34m\"b\"\u001b[0m\u001b[1;33m]\u001b[0m\u001b[1;33m)\u001b[0m\u001b[1;33m\u001b[0m\u001b[1;33m\u001b[0m\u001b[0m\n\u001b[0m",
      "\u001b[1;31mTypeError\u001b[0m: unhashable type: 'slice'"
     ]
    }
   ],
   "source": [
    "a = {\"a\":\"Apple\",\"b\":\"Ball\",\"c\":\"Cat\"}\n",
    "print(a[\"a\":\"b\"])"
   ]
  },
  {
   "cell_type": "code",
   "execution_count": 10,
   "metadata": {},
   "outputs": [
    {
     "data": {
      "text/plain": [
       "{'B': 'Apple', 'A': 'Ball', 'c': 'Cat'}"
      ]
     },
     "execution_count": 10,
     "metadata": {},
     "output_type": "execute_result"
    }
   ],
   "source": [
    "a = {\"B\":\"Apple\",\"A\":\"Ball\",\"c\":\"Cat\"}\n",
    "a"
   ]
  },
  {
   "cell_type": "code",
   "execution_count": 11,
   "metadata": {},
   "outputs": [
    {
     "data": {
      "text/plain": [
       "{'B': 'Apple', 'b': 'Ball', 'c': 'Cat'}"
      ]
     },
     "execution_count": 11,
     "metadata": {},
     "output_type": "execute_result"
    }
   ],
   "source": [
    "a = {\"B\":\"Apple\",\"A\":\"Ball\",\"c\":\"Cat\"}\n",
    "a = {\"B\":\"Apple\",\"b\":\"Ball\",\"c\":\"Cat\"}\n",
    "a"
   ]
  },
  {
   "cell_type": "code",
   "execution_count": 13,
   "metadata": {},
   "outputs": [
    {
     "data": {
      "text/plain": [
       "{'B': 'Ball', 'c': 'Cat'}"
      ]
     },
     "execution_count": 13,
     "metadata": {},
     "output_type": "execute_result"
    }
   ],
   "source": [
    "a = {\"B\":\"Apple\",\"B\":\"Ball\",\"c\":\"Cat\"}\n",
    "a"
   ]
  },
  {
   "cell_type": "code",
   "execution_count": 16,
   "metadata": {},
   "outputs": [
    {
     "data": {
      "text/plain": [
       "{'a': 'Ant', 'b': 'Ball', 'c': 'Cat'}"
      ]
     },
     "execution_count": 16,
     "metadata": {},
     "output_type": "execute_result"
    }
   ],
   "source": [
    "# a = dict()\n",
    "a = {}\n",
    "a[\"a\"] = \"Apple\"\n",
    "a[\"b\"] = \"Ball\"\n",
    "a[\"c\"] = \"Cat\"\n",
    "a[\"a\"] = \"Ant\"\n",
    "a"
   ]
  },
  {
   "cell_type": "code",
   "execution_count": 17,
   "metadata": {},
   "outputs": [
    {
     "name": "stdout",
     "output_type": "stream",
     "text": [
      "Enter n = 2\n",
      "Entre name = Ram\n",
      "Enter phone = 9867666765\n",
      "Entre name = Shyam\n",
      "Enter phone = 9056556543\n",
      "{'Ram': 9867666765, 'Shyam': 9056556543}\n"
     ]
    }
   ],
   "source": [
    "d = {}\n",
    "n = int(input(\"Enter n = \"))\n",
    "for i in range(n):\n",
    "    name = input(\"Entre name = \")\n",
    "    phone = int(input(\"Enter phone = \"))\n",
    "    key = name\n",
    "    value = phone\n",
    "    d[key] = value\n",
    "    \n",
    "print(d)"
   ]
  },
  {
   "cell_type": "code",
   "execution_count": 19,
   "metadata": {},
   "outputs": [
    {
     "data": {
      "text/plain": [
       "{'Ram': 9856556543, 'Shyam': 9856554543}"
      ]
     },
     "execution_count": 19,
     "metadata": {},
     "output_type": "execute_result"
    }
   ],
   "source": [
    "b = [('Ram',9856556543),('Shyam',9856554543)]\n",
    "a = dict(a)\n",
    "a"
   ]
  },
  {
   "cell_type": "code",
   "execution_count": 20,
   "metadata": {},
   "outputs": [
    {
     "data": {
      "text/plain": [
       "['Ram', 'Shyam']"
      ]
     },
     "execution_count": 20,
     "metadata": {},
     "output_type": "execute_result"
    }
   ],
   "source": [
    "a = {'Ram': 9856556543, 'Shyam': 9856554543}\n",
    "list(a)"
   ]
  },
  {
   "cell_type": "code",
   "execution_count": 21,
   "metadata": {},
   "outputs": [
    {
     "data": {
      "text/plain": [
       "('Ram', 'Shyam')"
      ]
     },
     "execution_count": 21,
     "metadata": {},
     "output_type": "execute_result"
    }
   ],
   "source": [
    "a = {'Ram': 9856556543, 'Shyam': 9856554543}\n",
    "tuple(a)"
   ]
  },
  {
   "cell_type": "code",
   "execution_count": 22,
   "metadata": {},
   "outputs": [
    {
     "name": "stdout",
     "output_type": "stream",
     "text": [
      "Ram\n",
      "Shyam\n"
     ]
    }
   ],
   "source": [
    "a = {'Ram': 9856556543, 'Shyam': 9856554543}\n",
    "for i in a:\n",
    "    print(i)"
   ]
  },
  {
   "cell_type": "code",
   "execution_count": 23,
   "metadata": {},
   "outputs": [
    {
     "name": "stdout",
     "output_type": "stream",
     "text": [
      "9856556543\n",
      "9856554543\n"
     ]
    }
   ],
   "source": [
    "a = {'Ram': 9856556543, 'Shyam': 9856554543}\n",
    "for i in a.values():\n",
    "    print(i)"
   ]
  },
  {
   "cell_type": "code",
   "execution_count": 24,
   "metadata": {},
   "outputs": [
    {
     "name": "stdout",
     "output_type": "stream",
     "text": [
      "('Ram', 9856556543)\n",
      "('Shyam', 9856554543)\n"
     ]
    }
   ],
   "source": [
    "a = {'Ram': 9856556543, 'Shyam': 9856554543}\n",
    "for i in a.items():\n",
    "    print(i)"
   ]
  },
  {
   "cell_type": "code",
   "execution_count": 25,
   "metadata": {},
   "outputs": [
    {
     "ename": "TypeError",
     "evalue": "unsupported operand type(s) for +: 'dict' and 'dict'",
     "output_type": "error",
     "traceback": [
      "\u001b[1;31m---------------------------------------------------------------------------\u001b[0m",
      "\u001b[1;31mTypeError\u001b[0m                                 Traceback (most recent call last)",
      "\u001b[1;32m<ipython-input-25-34b8510e1dc1>\u001b[0m in \u001b[0;36m<module>\u001b[1;34m\u001b[0m\n\u001b[0;32m      1\u001b[0m \u001b[0ma\u001b[0m \u001b[1;33m=\u001b[0m \u001b[1;33m{\u001b[0m\u001b[1;34m'Ram'\u001b[0m\u001b[1;33m:\u001b[0m \u001b[1;36m9856556543\u001b[0m\u001b[1;33m,\u001b[0m \u001b[1;34m'Shyam'\u001b[0m\u001b[1;33m:\u001b[0m \u001b[1;36m9856554543\u001b[0m\u001b[1;33m}\u001b[0m\u001b[1;33m\u001b[0m\u001b[1;33m\u001b[0m\u001b[0m\n\u001b[0;32m      2\u001b[0m \u001b[0mb\u001b[0m \u001b[1;33m=\u001b[0m \u001b[1;33m{\u001b[0m\u001b[1;34m'Hari'\u001b[0m\u001b[1;33m:\u001b[0m\u001b[1;36m9856554543\u001b[0m\u001b[1;33m}\u001b[0m\u001b[1;33m\u001b[0m\u001b[1;33m\u001b[0m\u001b[0m\n\u001b[1;32m----> 3\u001b[1;33m \u001b[0mprint\u001b[0m\u001b[1;33m(\u001b[0m\u001b[0ma\u001b[0m\u001b[1;33m+\u001b[0m\u001b[0mb\u001b[0m\u001b[1;33m)\u001b[0m\u001b[1;33m\u001b[0m\u001b[1;33m\u001b[0m\u001b[0m\n\u001b[0m",
      "\u001b[1;31mTypeError\u001b[0m: unsupported operand type(s) for +: 'dict' and 'dict'"
     ]
    }
   ],
   "source": [
    "a = {'Ram': 9856556543, 'Shyam': 9856554543}\n",
    "b = {'Hari':9856554543}\n",
    "print(a+b)"
   ]
  },
  {
   "cell_type": "code",
   "execution_count": 27,
   "metadata": {},
   "outputs": [
    {
     "data": {
      "text/plain": [
       "{'Ram': 9856556543, 'Shyam': 9856554543, 'Hari': 9856554543}"
      ]
     },
     "execution_count": 27,
     "metadata": {},
     "output_type": "execute_result"
    }
   ],
   "source": [
    "a = {'Ram': 9856556543, 'Shyam': 9856554543}\n",
    "b = {'Hari':9856554543}\n",
    "a.update(b)\n",
    "a"
   ]
  },
  {
   "cell_type": "code",
   "execution_count": 28,
   "metadata": {},
   "outputs": [
    {
     "data": {
      "text/plain": [
       "{'Shyam': 9856554543}"
      ]
     },
     "execution_count": 28,
     "metadata": {},
     "output_type": "execute_result"
    }
   ],
   "source": [
    "a = {'Ram': 9856556543, 'Shyam': 9856554543}\n",
    "del a['Ram']\n",
    "a"
   ]
  },
  {
   "cell_type": "code",
   "execution_count": 29,
   "metadata": {},
   "outputs": [
    {
     "ename": "AttributeError",
     "evalue": "'dict' object has no attribute 'remove'",
     "output_type": "error",
     "traceback": [
      "\u001b[1;31m---------------------------------------------------------------------------\u001b[0m",
      "\u001b[1;31mAttributeError\u001b[0m                            Traceback (most recent call last)",
      "\u001b[1;32m<ipython-input-29-c800cfd9afd9>\u001b[0m in \u001b[0;36m<module>\u001b[1;34m\u001b[0m\n\u001b[0;32m      1\u001b[0m \u001b[0ma\u001b[0m \u001b[1;33m=\u001b[0m \u001b[1;33m{\u001b[0m\u001b[1;34m'Ram'\u001b[0m\u001b[1;33m:\u001b[0m \u001b[1;36m9856556543\u001b[0m\u001b[1;33m,\u001b[0m \u001b[1;34m'Shyam'\u001b[0m\u001b[1;33m:\u001b[0m \u001b[1;36m9856554543\u001b[0m\u001b[1;33m}\u001b[0m\u001b[1;33m\u001b[0m\u001b[1;33m\u001b[0m\u001b[0m\n\u001b[1;32m----> 2\u001b[1;33m \u001b[0ma\u001b[0m\u001b[1;33m.\u001b[0m\u001b[0mremove\u001b[0m\u001b[1;33m(\u001b[0m\u001b[1;34m'Ram'\u001b[0m\u001b[1;33m)\u001b[0m\u001b[1;33m\u001b[0m\u001b[1;33m\u001b[0m\u001b[0m\n\u001b[0m\u001b[0;32m      3\u001b[0m \u001b[0ma\u001b[0m\u001b[1;33m\u001b[0m\u001b[1;33m\u001b[0m\u001b[0m\n",
      "\u001b[1;31mAttributeError\u001b[0m: 'dict' object has no attribute 'remove'"
     ]
    }
   ],
   "source": [
    "a = {'Ram': 9856556543, 'Shyam': 9856554543}\n",
    "a.remove('Ram')\n",
    "a"
   ]
  },
  {
   "cell_type": "code",
   "execution_count": 31,
   "metadata": {},
   "outputs": [
    {
     "data": {
      "text/plain": [
       "{'Shyam': 9856554543}"
      ]
     },
     "execution_count": 31,
     "metadata": {},
     "output_type": "execute_result"
    }
   ],
   "source": [
    "a = {'Ram': 9856556543, 'Shyam': 9856554543}\n",
    "a.pop('Ram')\n",
    "a"
   ]
  },
  {
   "cell_type": "code",
   "execution_count": 34,
   "metadata": {},
   "outputs": [
    {
     "data": {
      "text/plain": [
       "{('Ram', 'Hari'): 9856556543, 'Shyam': 9856554543}"
      ]
     },
     "execution_count": 34,
     "metadata": {},
     "output_type": "execute_result"
    }
   ],
   "source": [
    "a = {('Ram','Hari'): 9856556543, 'Shyam': 9856554543}\n",
    "a"
   ]
  },
  {
   "cell_type": "code",
   "execution_count": 36,
   "metadata": {},
   "outputs": [
    {
     "data": {
      "text/plain": [
       "9856556543"
      ]
     },
     "execution_count": 36,
     "metadata": {},
     "output_type": "execute_result"
    }
   ],
   "source": [
    "a[('Ram', 'Hari')]"
   ]
  },
  {
   "cell_type": "code",
   "execution_count": null,
   "metadata": {},
   "outputs": [],
   "source": [
    "# list inside dict\n",
    "a = {'Ram': [9856556543,980844543], 'Shyam': [9856554543,9808556543]}\n",
    "\n",
    "# dic inside list\n",
    "a = [{'Ram': 9856556543}, \n",
    "     {'Shyam': 9856554543}]\n",
    "\n",
    "# tuple inside dict\n",
    "a = {'Ram': (9856556543,980844543), 'Shyam': (9856554543,9808556543)}\n",
    "\n",
    "# dic inside tuple\n",
    "a = ({'Ram': 9856556543}, \n",
    "     {'Shyam': 9856554543})\n",
    "\n",
    "# dict inside dict\n",
    "a = {'Ram': {\"NTC\":9856556543,\"NCELL\":980844543},\n",
    "     'Shyam': {\"NTC\":9856554543,\"NCELL\":9808556543}"
   ]
  },
  {
   "cell_type": "code",
   "execution_count": 38,
   "metadata": {},
   "outputs": [
    {
     "name": "stdout",
     "output_type": "stream",
     "text": [
      "Enter n = 2\n",
      "Enter name = Ram\n",
      "Enter ntc no = 9845445678\n",
      "Enter ncell no =9808556543\n",
      "Enter name = Shyam\n",
      "Enter ntc no = 9856554543\n",
      "Enter ncell no =9808556543\n",
      "{'Ram': [9845445678, 9808556543], 'Shyam': [9856554543, 9808556543]}\n"
     ]
    }
   ],
   "source": [
    "# list inside dict\n",
    "# a = {'Ram': [9856556543,980844543], 'Shyam': [9856554543,9808556543]}\n",
    "d = {}\n",
    "n = int(input(\"Enter n = \"))\n",
    "for i in range(n):\n",
    "    name = input(\"Enter name = \")\n",
    "    ntc = int(input(\"Enter ntc no = \"))\n",
    "    ncell = int(input(\"Enter ncell no =\"))\n",
    "    key = name\n",
    "    value = [ntc,ncell]\n",
    "    d[key] = value\n",
    "    \n",
    "print(d)"
   ]
  },
  {
   "cell_type": "code",
   "execution_count": 2,
   "metadata": {},
   "outputs": [
    {
     "name": "stdout",
     "output_type": "stream",
     "text": [
      "[9845445678, 9808556543]\n"
     ]
    }
   ],
   "source": [
    "a = {'Ram': [9845445678, 9808556543], 'Shyam': [9856554543, 9808556543]}\n",
    "print(a['Ram'])"
   ]
  },
  {
   "cell_type": "code",
   "execution_count": 3,
   "metadata": {},
   "outputs": [
    {
     "data": {
      "text/plain": [
       "{'Ram': [9845445677, 9808556544], 'Shyam': [9856554543, 9808556543]}"
      ]
     },
     "execution_count": 3,
     "metadata": {},
     "output_type": "execute_result"
    }
   ],
   "source": [
    "a = {'Ram': [9845445678, 9808556543], 'Shyam': [9856554543, 9808556543]}\n",
    "a['Ram'] = [9845445677, 9808556544]\n",
    "a"
   ]
  },
  {
   "cell_type": "code",
   "execution_count": 4,
   "metadata": {},
   "outputs": [
    {
     "data": {
      "text/plain": [
       "{'Ram': [9845445677, 9808556543], 'Shyam': [9856554543, 9808556543]}"
      ]
     },
     "execution_count": 4,
     "metadata": {},
     "output_type": "execute_result"
    }
   ],
   "source": [
    "a = {'Ram': [9845445678, 9808556543], 'Shyam': [9856554543, 9808556543]}\n",
    "a['Ram'][0] = 9845445677\n",
    "a"
   ]
  },
  {
   "cell_type": "code",
   "execution_count": 5,
   "metadata": {},
   "outputs": [
    {
     "data": {
      "text/plain": [
       "{'Ram': [9808556543], 'Shyam': [9856554543, 9808556543]}"
      ]
     },
     "execution_count": 5,
     "metadata": {},
     "output_type": "execute_result"
    }
   ],
   "source": [
    "a = {'Ram': [9845445678, 9808556543], 'Shyam': [9856554543, 9808556543]}\n",
    "del a['Ram'][0]\n",
    "a"
   ]
  },
  {
   "cell_type": "code",
   "execution_count": 8,
   "metadata": {},
   "outputs": [
    {
     "data": {
      "text/plain": [
       "{'Ram': [9845445678, 9808556543, 4456554], 'Shyam': [9856554543, 9808556543]}"
      ]
     },
     "execution_count": 8,
     "metadata": {},
     "output_type": "execute_result"
    }
   ],
   "source": [
    "a = {'Ram': [9845445678, 9808556543], 'Shyam': [9856554543, 9808556543]}\n",
    "a['Ram'].append(4456554)\n",
    "a"
   ]
  },
  {
   "cell_type": "code",
   "execution_count": 10,
   "metadata": {},
   "outputs": [
    {
     "data": {
      "text/plain": [
       "{'Shyam': 9856554543}"
      ]
     },
     "execution_count": 10,
     "metadata": {},
     "output_type": "execute_result"
    }
   ],
   "source": [
    "# dic inside list\n",
    "a = [{'Ram': 9856556543}, {'Shyam': 9856554543}]\n",
    "a[1]"
   ]
  },
  {
   "cell_type": "code",
   "execution_count": 11,
   "metadata": {},
   "outputs": [
    {
     "name": "stdout",
     "output_type": "stream",
     "text": [
      "{'Ram': 9856556543}\n",
      "{'Shyam': 9856554543}\n"
     ]
    }
   ],
   "source": [
    "a = [{'Ram': 9856556543}, {'Shyam': 9856554543}]\n",
    "for i in a:\n",
    "    print(i)"
   ]
  },
  {
   "cell_type": "code",
   "execution_count": 12,
   "metadata": {},
   "outputs": [
    {
     "name": "stdout",
     "output_type": "stream",
     "text": [
      "Enter n = 2\n",
      "Enter name = Ram\n",
      "Enter ntc no = 9867665654\n",
      "Enter ncell no =9808556543\n",
      "Enter name = Shyam\n",
      "Enter ntc no = 9876556543\n",
      "Enter ncell no =9808556543\n",
      "{'Name': 'Shyam', 'Ntc': 9876556543, 'Ncell': 9808556543}\n"
     ]
    }
   ],
   "source": [
    "# dict inside list\n",
    "# a = [{'Ram': 9856556543}, {'Shyam': 9856554543}]\n",
    "l = []\n",
    "n = int(input(\"Enter n = \"))\n",
    "for i in range(n):\n",
    "    name = input(\"Enter name = \")\n",
    "    ntc = int(input(\"Enter ntc no = \"))\n",
    "    ncell = int(input(\"Enter ncell no =\"))\n",
    "    d = {'Name':name,'Ntc':ntc,'Ncell':ncell}\n",
    "    l.append(d)\n"
   ]
  },
  {
   "cell_type": "code",
   "execution_count": 13,
   "metadata": {},
   "outputs": [
    {
     "name": "stdout",
     "output_type": "stream",
     "text": [
      "[{'Name': 'Ram', 'Ntc': 9867665654, 'Ncell': 9808556543}, {'Name': 'Shyam', 'Ntc': 9876556543, 'Ncell': 9808556543}]\n"
     ]
    }
   ],
   "source": [
    "print(l)"
   ]
  },
  {
   "cell_type": "code",
   "execution_count": 23,
   "metadata": {},
   "outputs": [
    {
     "name": "stdout",
     "output_type": "stream",
     "text": [
      "Enter name = Rama\n",
      "Not found\n"
     ]
    }
   ],
   "source": [
    "a = [{'Name': 'Ram', 'Ntc': 9867665654, 'Ncell': 9808556543}, \n",
    "     {'Name': 'Shyam', 'Ntc': 9876556543, 'Ncell': 9808556543}]\n",
    "name = input(\"Enter name = \")\n",
    "c = 0\n",
    "for i in a:\n",
    "    if i['Name'] == name:\n",
    "        c = c+1\n",
    "        print(i)\n",
    "if c == 0:\n",
    "    print(\"Not found\")"
   ]
  },
  {
   "cell_type": "code",
   "execution_count": 25,
   "metadata": {},
   "outputs": [
    {
     "data": {
      "text/plain": [
       "{'NTC': 9856556543, 'NCELL': 980844543}"
      ]
     },
     "execution_count": 25,
     "metadata": {},
     "output_type": "execute_result"
    }
   ],
   "source": [
    "a = {'Ram': {\"NTC\":9856556543,\"NCELL\":980844543},\n",
    "     'Shyam': {\"NTC\":9856554543,\"NCELL\":9808556543}}\n",
    "a['Ram']"
   ]
  },
  {
   "cell_type": "code",
   "execution_count": 27,
   "metadata": {},
   "outputs": [
    {
     "data": {
      "text/plain": [
       "{'Name': 'Ram', 'NTC': 9856556543, 'NCELL': 980844543}"
      ]
     },
     "execution_count": 27,
     "metadata": {},
     "output_type": "execute_result"
    }
   ],
   "source": [
    "a = {1:{'Name':'Ram',\"NTC\":9856556543,\"NCELL\":980844543},\n",
    "     2:{'Name':'Ram',\"NTC\":9856554543,\"NCELL\":9808556543}}\n",
    "a[1]"
   ]
  },
  {
   "cell_type": "code",
   "execution_count": 28,
   "metadata": {},
   "outputs": [
    {
     "data": {
      "text/plain": [
       "'Ram'"
      ]
     },
     "execution_count": 28,
     "metadata": {},
     "output_type": "execute_result"
    }
   ],
   "source": [
    "a = {1:{'Name':'Ram',\"NTC\":9856556543,\"NCELL\":980844543},\n",
    "     2:{'Name':'Ram',\"NTC\":9856554543,\"NCELL\":9808556543}}\n",
    "a[1]['Name']"
   ]
  },
  {
   "cell_type": "code",
   "execution_count": 29,
   "metadata": {},
   "outputs": [
    {
     "data": {
      "text/plain": [
       "{1: {'Name': 'Rama', 'NTC': 9856556543, 'NCELL': 980844543},\n",
       " 2: {'Name': 'Ram', 'NTC': 9856554543, 'NCELL': 9808556543}}"
      ]
     },
     "execution_count": 29,
     "metadata": {},
     "output_type": "execute_result"
    }
   ],
   "source": [
    "a = {1:{'Name':'Ram',\"NTC\":9856556543,\"NCELL\":980844543},\n",
    "     2:{'Name':'Ram',\"NTC\":9856554543,\"NCELL\":9808556543}}\n",
    "a[1]['Name'] = 'Rama'\n",
    "a"
   ]
  },
  {
   "cell_type": "code",
   "execution_count": 30,
   "metadata": {},
   "outputs": [
    {
     "data": {
      "text/plain": [
       "{2: {'Name': 'Ram', 'NTC': 9856554543, 'NCELL': 9808556543}}"
      ]
     },
     "execution_count": 30,
     "metadata": {},
     "output_type": "execute_result"
    }
   ],
   "source": [
    "a = {1:{'Name':'Ram',\"NTC\":9856556543,\"NCELL\":980844543},\n",
    "     2:{'Name':'Ram',\"NTC\":9856554543,\"NCELL\":9808556543}}\n",
    "del a[1]\n",
    "a"
   ]
  },
  {
   "cell_type": "code",
   "execution_count": 31,
   "metadata": {},
   "outputs": [
    {
     "data": {
      "text/plain": [
       "{1: {'Name': 'Ram', 'NTC': 9856556543, 'NCELL': 980844543},\n",
       " 2: {'Name': 'Shyam', 'NTC': 9856554543, 'NCELL': 9808556543},\n",
       " 3: {'Name': 'Hari', 'NTC': 9856556544, 'NCELL': 980844143}}"
      ]
     },
     "execution_count": 31,
     "metadata": {},
     "output_type": "execute_result"
    }
   ],
   "source": [
    "a = {1:{'Name':'Ram',\"NTC\":9856556543,\"NCELL\":980844543},\n",
    "     2:{'Name':'Shyam',\"NTC\":9856554543,\"NCELL\":9808556543}}\n",
    "\n",
    "a[3] = {'Name':'Hari',\"NTC\":9856556544,\"NCELL\":980844143}\n",
    "a"
   ]
  },
  {
   "cell_type": "code",
   "execution_count": 32,
   "metadata": {},
   "outputs": [
    {
     "name": "stdout",
     "output_type": "stream",
     "text": [
      "(1, {'Name': 'Ram', 'NTC': 9856556543, 'NCELL': 980844543})\n",
      "(2, {'Name': 'Shyam', 'NTC': 9856554543, 'NCELL': 9808556543})\n",
      "(3, {'Name': 'Hari', 'NTC': 9856556544, 'NCELL': 980844143})\n"
     ]
    }
   ],
   "source": [
    "for i in a.items():\n",
    "    print(i)"
   ]
  },
  {
   "cell_type": "code",
   "execution_count": 33,
   "metadata": {},
   "outputs": [
    {
     "name": "stdout",
     "output_type": "stream",
     "text": [
      "{'Name': 'Ram', 'NTC': 9856556543, 'NCELL': 980844543}\n",
      "{'Name': 'Shyam', 'NTC': 9856554543, 'NCELL': 9808556543}\n",
      "{'Name': 'Hari', 'NTC': 9856556544, 'NCELL': 980844143}\n"
     ]
    }
   ],
   "source": [
    "for i in a.values():\n",
    "    print(i)"
   ]
  },
  {
   "cell_type": "code",
   "execution_count": 34,
   "metadata": {},
   "outputs": [
    {
     "name": "stdout",
     "output_type": "stream",
     "text": [
      "Enter n = 2\n",
      "Enter name = Ram\n",
      "Enter ntc no = 98789798\n",
      "Enter ncell no =98798797\n",
      "Enter name = Shyam\n",
      "Enter ntc no = 989897897\n",
      "Enter ncell no =9988978978\n",
      "{1: {'Name': 'Ram', 'Ntc': 98789798, 'Ncell': 98798797}, 2: {'Name': 'Shyam', 'Ntc': 989897897, 'Ncell': 9988978978}}\n"
     ]
    }
   ],
   "source": [
    "l = {}\n",
    "n = int(input(\"Enter n = \"))\n",
    "for i in range(1,n+1):\n",
    "    name = input(\"Enter name = \")\n",
    "    ntc = int(input(\"Enter ntc no = \"))\n",
    "    ncell = int(input(\"Enter ncell no =\"))\n",
    "    d={'Name':name,'Ntc':ntc,'Ncell':ncell}\n",
    "    l[i] = d\n",
    "    \n",
    "print(l)"
   ]
  },
  {
   "cell_type": "code",
   "execution_count": null,
   "metadata": {},
   "outputs": [],
   "source": []
  }
 ],
 "metadata": {
  "kernelspec": {
   "display_name": "Python 3",
   "language": "python",
   "name": "python3"
  },
  "language_info": {
   "codemirror_mode": {
    "name": "ipython",
    "version": 3
   },
   "file_extension": ".py",
   "mimetype": "text/x-python",
   "name": "python",
   "nbconvert_exporter": "python",
   "pygments_lexer": "ipython3",
   "version": "3.7.1"
  }
 },
 "nbformat": 4,
 "nbformat_minor": 2
}
