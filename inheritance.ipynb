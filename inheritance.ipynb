{
 "cells": [
  {
   "cell_type": "code",
   "execution_count": 1,
   "metadata": {},
   "outputs": [],
   "source": [
    "# class A:\n",
    "#     pass\n",
    "\n",
    "# class B(A):\n",
    "#     pass\n",
    "\n",
    "# obj = B()"
   ]
  },
  {
   "cell_type": "code",
   "execution_count": 2,
   "metadata": {},
   "outputs": [
    {
     "name": "stdout",
     "output_type": "stream",
     "text": [
      "Hello World A\n",
      "Hello World B\n"
     ]
    }
   ],
   "source": [
    "class A:\n",
    "    print(\"Hello World A\")\n",
    "    \n",
    "class  B(A):\n",
    "    print(\"Hello World B\")\n",
    "    \n",
    "obj = B()"
   ]
  },
  {
   "cell_type": "code",
   "execution_count": 4,
   "metadata": {},
   "outputs": [
    {
     "name": "stdout",
     "output_type": "stream",
     "text": [
      "Hello World A\n",
      "Hello World B\n"
     ]
    }
   ],
   "source": [
    "class A:\n",
    "    def a(self):\n",
    "        print(\"Hello World A\")\n",
    "    \n",
    "class  B(A):\n",
    "    def b(self):\n",
    "        print(\"Hello World B\")\n",
    "    \n",
    "obj = B()\n",
    "obj.a()\n",
    "obj.b()"
   ]
  },
  {
   "cell_type": "code",
   "execution_count": 5,
   "metadata": {},
   "outputs": [
    {
     "name": "stdout",
     "output_type": "stream",
     "text": [
      "Hello World I am Ram My sal is 15000\n"
     ]
    }
   ],
   "source": [
    "class Account:\n",
    "    def __init__(self,name,salary):\n",
    "        self.sal = salary\n",
    "        self.name =name\n",
    "        \n",
    "    def acc(self):\n",
    "        print(\"Hello World my sal is \",self.sal)\n",
    "    \n",
    "class Office(Account):\n",
    "    def off(self):\n",
    "        print(f\"Hello World I am {self.name} My sal is {self.sal}\")\n",
    "        \n",
    "obj = Office(\"Ram\",15000)\n",
    "obj.off()"
   ]
  },
  {
   "cell_type": "code",
   "execution_count": 7,
   "metadata": {},
   "outputs": [
    {
     "name": "stdout",
     "output_type": "stream",
     "text": [
      "Enter salary = 10000\n",
      "Enter name = Ram\n",
      "Hello World I am Ram My sal is 10000\n",
      "Hello World my sal is  10000\n"
     ]
    }
   ],
   "source": [
    "class Account:\n",
    "    def __init__(self):\n",
    "        self.sal = int(input(\"Enter salary = \"))\n",
    "        self.name =input(\"Enter name = \")\n",
    "        \n",
    "    def acc(self):\n",
    "        print(\"Hello World my sal is \",self.sal)\n",
    "    \n",
    "class Office(Account):\n",
    "    def off(self):\n",
    "        print(f\"Hello World I am {self.name} My sal is {self.sal}\")\n",
    "        \n",
    "obj = Office()\n",
    "# obj1 = Account()\n",
    "obj.off()\n",
    "obj.acc()"
   ]
  },
  {
   "cell_type": "code",
   "execution_count": 9,
   "metadata": {},
   "outputs": [
    {
     "name": "stdout",
     "output_type": "stream",
     "text": [
      "Enter address = Kathmandu\n",
      "Enter salary = 100000\n",
      "Enter name = Ram\n",
      "Hello World I am Ram My sal is 100000\n",
      "Hello World my sal is  100000\n"
     ]
    }
   ],
   "source": [
    "class Account:\n",
    "    def __init__(self):\n",
    "        self.sal = int(input(\"Enter salary = \"))\n",
    "        self.name =input(\"Enter name = \")\n",
    "        \n",
    "    def acc(self):\n",
    "        print(\"Hello World my sal is \",self.sal)\n",
    "    \n",
    "class Office(Account):\n",
    "    def __init__(self):\n",
    "        self.address = input(\"Enter address = \")\n",
    "        Account.__init__(self)\n",
    "        \n",
    "        \n",
    "    def off(self):\n",
    "        print(f\"Hello World I am {self.name} My sal is {self.sal}\")\n",
    "        \n",
    "obj = Office()\n",
    "# obj1 = Account()\n",
    "obj.off()\n",
    "obj.acc()"
   ]
  },
  {
   "cell_type": "code",
   "execution_count": 10,
   "metadata": {},
   "outputs": [
    {
     "name": "stdout",
     "output_type": "stream",
     "text": [
      "Hello World I am Kathmandu My sal is 15000\n",
      "Hello World my sal is  15000\n"
     ]
    }
   ],
   "source": [
    "class Account:\n",
    "    def __init__(self,sal,add):\n",
    "        self.sal = sal\n",
    "        self.name =add\n",
    "        \n",
    "    def acc(self):\n",
    "        print(\"Hello World my sal is \",self.sal)\n",
    "    \n",
    "class Office(Account):\n",
    "    def __init__(self,name,sal,add):\n",
    "        self.name = name\n",
    "        Account.__init__(self,sal,add)\n",
    "        \n",
    "        \n",
    "    def off(self):\n",
    "        print(f\"Hello World I am {self.name} My sal is {self.sal}\")\n",
    "        \n",
    "obj = Office(\"Ram\",15000,\"Kathmandu\")\n",
    "# obj1 = Account()\n",
    "obj.off()\n",
    "obj.acc()"
   ]
  },
  {
   "cell_type": "code",
   "execution_count": 13,
   "metadata": {},
   "outputs": [
    {
     "name": "stdout",
     "output_type": "stream",
     "text": [
      "Hello World I am Ram My sal is 15000\n",
      "Hello World my sal is  15000\n"
     ]
    }
   ],
   "source": [
    "class Account:\n",
    "    def __init__(self,sal):\n",
    "        self.sal = sal\n",
    "        \n",
    "    def acc(self):\n",
    "        print(\"Hello World my sal is \",self.sal)\n",
    "        \n",
    "class Info(Account):\n",
    "    def __init__(self,add):\n",
    "        self.add =add\n",
    "        \n",
    "    def acc(self):\n",
    "        print(\"Hello World I am from\",self.sal)\n",
    "        \n",
    "class Office(Info):\n",
    "    def __init__(self,name,sal,add):\n",
    "        self.name = name\n",
    "        Account.__init__(self,sal)\n",
    "        Info.__init__(self,add)\n",
    "        \n",
    "    def off(self):\n",
    "        print(f\"Hello World I am {self.name} My sal is {self.sal}\")\n",
    "        \n",
    "obj = Office(\"Ram\",15000,\"Kathmandu\")\n",
    "# obj1 = Account()\n",
    "obj.off()\n",
    "obj.acc()"
   ]
  },
  {
   "cell_type": "code",
   "execution_count": 14,
   "metadata": {},
   "outputs": [
    {
     "name": "stdout",
     "output_type": "stream",
     "text": [
      "Hello World I am Ram My sal is 15000\n",
      "Hello World I am from Kathmandu\n"
     ]
    }
   ],
   "source": [
    "class Account:\n",
    "    def __init__(self,sal):\n",
    "        self.sal = sal\n",
    "        \n",
    "    def acc(self):\n",
    "        print(\"Hello World my sal is \",self.sal)\n",
    "        \n",
    "class Info:\n",
    "    def __init__(self,add):\n",
    "        self.add =add\n",
    "        \n",
    "    def acc(self):\n",
    "        print(\"Hello World I am from\",self.add)\n",
    "        \n",
    "class Office(Info,Account):\n",
    "    def __init__(self,name,sal,add):\n",
    "        self.name = name\n",
    "        Account.__init__(self,sal)\n",
    "        Info.__init__(self,add)\n",
    "        \n",
    "    def off(self):\n",
    "        print(f\"Hello World I am {self.name} My sal is {self.sal}\")\n",
    "        \n",
    "obj = Office(\"Ram\",15000,\"Kathmandu\")\n",
    "# obj1 = Account()\n",
    "obj.off()\n",
    "obj.acc()"
   ]
  },
  {
   "cell_type": "code",
   "execution_count": 18,
   "metadata": {},
   "outputs": [
    {
     "name": "stdout",
     "output_type": "stream",
     "text": [
      "Hello World I am Ram My sal is 15000\n",
      "Hello World my sal is  15000\n",
      "Hello World I am from Kathmandu\n",
      "Hello World my sal is  15000\n",
      "Ram 15000 Kathmandu\n"
     ]
    }
   ],
   "source": [
    "class Account:\n",
    "    def __init__(self,sal):\n",
    "        self.sal = sal\n",
    "        \n",
    "    def acc(self):\n",
    "        print(\"Hello World my sal is \",self.sal)\n",
    "        \n",
    "class Info:\n",
    "    def __init__(self,add):\n",
    "        self.add =add\n",
    "        \n",
    "    def info(self):\n",
    "        print(\"Hello World I am from\",self.add)\n",
    "        \n",
    "class Office(Info,Account):\n",
    "    def __init__(self,name,sal,add):\n",
    "        self.name = name\n",
    "        Account.__init__(self,sal)\n",
    "        Info.__init__(self,add)\n",
    "        \n",
    "    def off(self):\n",
    "        print(f\"Hello World I am {self.name} My sal is {self.sal}\")\n",
    "        Account.acc(self)\n",
    "        super().info()\n",
    "        \n",
    "obj = Office(\"Ram\",15000,\"Kathmandu\")\n",
    "# obj1 = Account()\n",
    "obj.off()\n",
    "obj.acc()\n",
    "print(obj.name,obj.sal,obj.add)"
   ]
  },
  {
   "cell_type": "code",
   "execution_count": 1,
   "metadata": {},
   "outputs": [],
   "source": [
    "# private\n",
    "# protected\n",
    "# public"
   ]
  },
  {
   "cell_type": "code",
   "execution_count": 5,
   "metadata": {},
   "outputs": [
    {
     "name": "stdout",
     "output_type": "stream",
     "text": [
      "Ram\n",
      "67\n"
     ]
    }
   ],
   "source": [
    "# Public\n",
    "class Info:\n",
    "    def __init__(self,name,age):\n",
    "        self.name = name\n",
    "        self.age = age\n",
    "        \n",
    "obj = Info(\"Ram\",67)\n",
    "print(obj.name)\n",
    "print(obj.age)"
   ]
  },
  {
   "cell_type": "code",
   "execution_count": 7,
   "metadata": {},
   "outputs": [
    {
     "name": "stdout",
     "output_type": "stream",
     "text": [
      "Ram\n",
      "67\n"
     ]
    }
   ],
   "source": [
    "# Protected\n",
    "class Info:\n",
    "    def __init__(self,name,age):\n",
    "        self._name = name\n",
    "        self._age = age\n",
    "        \n",
    "obj = Info(\"Ram\",67)\n",
    "print(obj._name)\n",
    "print(obj._age)"
   ]
  },
  {
   "cell_type": "code",
   "execution_count": 8,
   "metadata": {},
   "outputs": [
    {
     "ename": "AttributeError",
     "evalue": "'Info' object has no attribute '__name'",
     "output_type": "error",
     "traceback": [
      "\u001b[1;31m---------------------------------------------------------------------------\u001b[0m",
      "\u001b[1;31mAttributeError\u001b[0m                            Traceback (most recent call last)",
      "\u001b[1;32m<ipython-input-8-e4b9d3cd71fb>\u001b[0m in \u001b[0;36m<module>\u001b[1;34m\u001b[0m\n\u001b[0;32m      6\u001b[0m \u001b[1;33m\u001b[0m\u001b[0m\n\u001b[0;32m      7\u001b[0m \u001b[0mobj\u001b[0m \u001b[1;33m=\u001b[0m \u001b[0mInfo\u001b[0m\u001b[1;33m(\u001b[0m\u001b[1;34m\"Ram\"\u001b[0m\u001b[1;33m,\u001b[0m\u001b[1;36m67\u001b[0m\u001b[1;33m)\u001b[0m\u001b[1;33m\u001b[0m\u001b[1;33m\u001b[0m\u001b[0m\n\u001b[1;32m----> 8\u001b[1;33m \u001b[0mprint\u001b[0m\u001b[1;33m(\u001b[0m\u001b[0mobj\u001b[0m\u001b[1;33m.\u001b[0m\u001b[0m__name\u001b[0m\u001b[1;33m)\u001b[0m\u001b[1;33m\u001b[0m\u001b[1;33m\u001b[0m\u001b[0m\n\u001b[0m\u001b[0;32m      9\u001b[0m \u001b[0mprint\u001b[0m\u001b[1;33m(\u001b[0m\u001b[0mobj\u001b[0m\u001b[1;33m.\u001b[0m\u001b[0m__age\u001b[0m\u001b[1;33m)\u001b[0m\u001b[1;33m\u001b[0m\u001b[1;33m\u001b[0m\u001b[0m\n",
      "\u001b[1;31mAttributeError\u001b[0m: 'Info' object has no attribute '__name'"
     ]
    }
   ],
   "source": [
    "# Private\n",
    "class Info:\n",
    "    def __init__(self,name,age):\n",
    "        self.__name = name\n",
    "        self.__age = age\n",
    "        \n",
    "obj = Info(\"Ram\",67)\n",
    "print(obj.__name)\n",
    "print(obj.__age)"
   ]
  },
  {
   "cell_type": "code",
   "execution_count": 9,
   "metadata": {},
   "outputs": [
    {
     "name": "stdout",
     "output_type": "stream",
     "text": [
      "Ram\n",
      "67\n"
     ]
    }
   ],
   "source": [
    "# Private\n",
    "class Info:\n",
    "    def __init__(self,name,age):\n",
    "        self.__name = name\n",
    "        self.__age = age\n",
    "        \n",
    "obj = Info(\"Ram\",67)\n",
    "print(obj._Info__name)\n",
    "print(obj._Info__age)"
   ]
  },
  {
   "cell_type": "code",
   "execution_count": 12,
   "metadata": {},
   "outputs": [
    {
     "name": "stdout",
     "output_type": "stream",
     "text": [
      "Hello World I am Ram My sal is 15000\n",
      "Hello World my sal is  15000\n",
      "Hello World I am from Kathmandu\n",
      "Hello World my sal is  15000\n"
     ]
    }
   ],
   "source": [
    "class Account:\n",
    "    def __init__(self,sal):\n",
    "        self._sal = sal\n",
    "        \n",
    "    def acc(self):\n",
    "        print(\"Hello World my sal is \",self._sal)\n",
    "        \n",
    "class Info:\n",
    "    def __init__(self,add):\n",
    "        self.__add =add\n",
    "        \n",
    "    def info(self):\n",
    "        print(\"Hello World I am from\",self.__add)\n",
    "        \n",
    "class Office(Info,Account):\n",
    "    def __init__(self,name,sal,add):\n",
    "        self.__name = name\n",
    "        Account.__init__(self,sal)\n",
    "        Info.__init__(self,add)\n",
    "        \n",
    "    def off(self):\n",
    "        print(f\"Hello World I am {self.__name} My sal is {self._sal}\")\n",
    "        Account.acc(self)\n",
    "        super().info()\n",
    "        \n",
    "obj = Office(\"Ram\",15000,\"Kathmandu\")\n",
    "# obj1 = Account()\n",
    "obj.off()\n",
    "obj.acc()"
   ]
  },
  {
   "cell_type": "code",
   "execution_count": null,
   "metadata": {},
   "outputs": [],
   "source": []
  }
 ],
 "metadata": {
  "kernelspec": {
   "display_name": "Python 3",
   "language": "python",
   "name": "python3"
  },
  "language_info": {
   "codemirror_mode": {
    "name": "ipython",
    "version": 3
   },
   "file_extension": ".py",
   "mimetype": "text/x-python",
   "name": "python",
   "nbconvert_exporter": "python",
   "pygments_lexer": "ipython3",
   "version": "3.7.1"
  }
 },
 "nbformat": 4,
 "nbformat_minor": 2
}
