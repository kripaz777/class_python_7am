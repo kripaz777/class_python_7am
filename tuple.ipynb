{
 "cells": [
  {
   "cell_type": "code",
   "execution_count": 1,
   "metadata": {},
   "outputs": [],
   "source": [
    "# Tuple\n",
    "# -Indexing\n",
    "# -Duplicate members\n",
    "# -Ordered\n",
    "# -Imutable\n"
   ]
  },
  {
   "cell_type": "code",
   "execution_count": 2,
   "metadata": {},
   "outputs": [
    {
     "name": "stdout",
     "output_type": "stream",
     "text": [
      "(1, 2, 3, 4)\n",
      "('Apple', 'Ball', 'Cat')\n"
     ]
    },
    {
     "data": {
      "text/plain": [
       "tuple"
      ]
     },
     "execution_count": 2,
     "metadata": {},
     "output_type": "execute_result"
    }
   ],
   "source": [
    "a = (1,2,3,4)\n",
    "b = (\"Apple\",\"Ball\",\"Cat\")\n",
    "print(a)\n",
    "print(b)\n",
    "type(a)"
   ]
  },
  {
   "cell_type": "code",
   "execution_count": 4,
   "metadata": {},
   "outputs": [
    {
     "data": {
      "text/plain": [
       "tuple"
      ]
     },
     "execution_count": 4,
     "metadata": {},
     "output_type": "execute_result"
    }
   ],
   "source": [
    "a = (\"Apple\",)\n",
    "type(a)"
   ]
  },
  {
   "cell_type": "code",
   "execution_count": 8,
   "metadata": {},
   "outputs": [
    {
     "name": "stdout",
     "output_type": "stream",
     "text": [
      "Apple\n",
      "('Apple', 'Ball')\n",
      "('Apple', 'Cat')\n"
     ]
    }
   ],
   "source": [
    "b = (\"Apple\",\"Ball\",\"Cat\")\n",
    "print(b[0])\n",
    "print(b[0:2])\n",
    "print(b[0:3:2])"
   ]
  },
  {
   "cell_type": "code",
   "execution_count": 9,
   "metadata": {},
   "outputs": [
    {
     "name": "stdout",
     "output_type": "stream",
     "text": [
      "('Apple', 'Ball', 'Cat', 'Apple', 'Ball', 'Cat')\n"
     ]
    }
   ],
   "source": [
    "b = (\"Apple\",\"Ball\",\"Cat\")\n",
    "print(b*2)"
   ]
  },
  {
   "cell_type": "code",
   "execution_count": 11,
   "metadata": {},
   "outputs": [
    {
     "name": "stdout",
     "output_type": "stream",
     "text": [
      "('Apple', 'Ball', 'Cat', 'Dog')\n"
     ]
    }
   ],
   "source": [
    "b = (\"Apple\",\"Ball\",\"Cat\",)\n",
    "c = (\"Dog\",)\n",
    "d = b+c\n",
    "print(d)"
   ]
  },
  {
   "cell_type": "code",
   "execution_count": 13,
   "metadata": {},
   "outputs": [
    {
     "name": "stdout",
     "output_type": "stream",
     "text": [
      "Enter 3\n",
      "Enter x = dsdas\n",
      "Enter x = asdasd\n",
      "Enter x = qweqw\n",
      "('dsdas', 'asdasd', 'qweqw')\n"
     ]
    }
   ],
   "source": [
    "t = tuple()\n",
    "n = int(input(\"Enter \"))\n",
    "for i in range(n):\n",
    "    x = input(\"Enter x = \")\n",
    "    t = t+(x,)\n",
    "print(t)"
   ]
  },
  {
   "cell_type": "code",
   "execution_count": 14,
   "metadata": {},
   "outputs": [
    {
     "name": "stdout",
     "output_type": "stream",
     "text": [
      "Apple\n",
      "Ball\n",
      "Cat\n",
      "Fish\n",
      "Ball\n",
      "Ball\n"
     ]
    }
   ],
   "source": [
    "a = (\"Apple\",\"Ball\",\"Cat\",\"Dog\",\"Fish\",\"Ball\",\"Ball\")\n",
    "for i in a:\n",
    "    if i == \"Dog\":\n",
    "        continue\n",
    "    print(i)"
   ]
  },
  {
   "cell_type": "code",
   "execution_count": 15,
   "metadata": {},
   "outputs": [
    {
     "name": "stdout",
     "output_type": "stream",
     "text": [
      "Enter 3\n",
      "Enter x = apple\n",
      "Enter x = Ball\n",
      "Enter x = CAt\n",
      "('apple', 'Ball', 'CAt')\n"
     ]
    }
   ],
   "source": [
    "t = tuple()\n",
    "n = int(input(\"Enter \"))\n",
    "for i in range(n):\n",
    "    x = input(\"Enter x = \")\n",
    "    t = t+(x,)\n",
    "print(t)"
   ]
  },
  {
   "cell_type": "code",
   "execution_count": 16,
   "metadata": {},
   "outputs": [
    {
     "data": {
      "text/plain": [
       "['Ball', 'CAt', 'apple']"
      ]
     },
     "execution_count": 16,
     "metadata": {},
     "output_type": "execute_result"
    }
   ],
   "source": [
    "sorted(t)"
   ]
  },
  {
   "cell_type": "code",
   "execution_count": 17,
   "metadata": {},
   "outputs": [
    {
     "name": "stdout",
     "output_type": "stream",
     "text": [
      "Enter 5\n",
      "Enter x = 23\n",
      "Enter x = 345\n",
      "Enter x = 23\n",
      "Enter x = 34\n",
      "Enter x = 23\n",
      "(23, 345, 23, 34, 23)\n"
     ]
    }
   ],
   "source": [
    "t = tuple()\n",
    "n = int(input(\"Enter \"))\n",
    "for i in range(n):\n",
    "    x = int(input(\"Enter x = \"))\n",
    "    t = t+(x,)\n",
    "print(t)"
   ]
  },
  {
   "cell_type": "code",
   "execution_count": 19,
   "metadata": {},
   "outputs": [
    {
     "name": "stdout",
     "output_type": "stream",
     "text": [
      "345\n",
      "23\n",
      "448\n"
     ]
    }
   ],
   "source": [
    "print(max(t))\n",
    "print(min(t))\n",
    "print(sum(t))"
   ]
  },
  {
   "cell_type": "code",
   "execution_count": 20,
   "metadata": {},
   "outputs": [
    {
     "data": {
      "text/plain": [
       "5"
      ]
     },
     "execution_count": 20,
     "metadata": {},
     "output_type": "execute_result"
    }
   ],
   "source": [
    "a = (23, 345, 23, 34, 23)\n",
    "len(a)"
   ]
  },
  {
   "cell_type": "code",
   "execution_count": 21,
   "metadata": {},
   "outputs": [
    {
     "name": "stdout",
     "output_type": "stream",
     "text": [
      "2\n",
      "7\n"
     ]
    }
   ],
   "source": [
    "a = (\"Apple\",\"Zebra\",\"ball\",\"Xray\",\"1Rose\",\".food\",\"2\",\"ball\")\n",
    "l = len(a)\n",
    "for i in range(l):\n",
    "    if a[i] == \"ball\":\n",
    "        print(i)"
   ]
  },
  {
   "cell_type": "code",
   "execution_count": 23,
   "metadata": {},
   "outputs": [
    {
     "name": "stdout",
     "output_type": "stream",
     "text": [
      "('Apple', 'Zebra', 'ball', '1Rose', '.food', '2', 'ball')\n"
     ]
    }
   ],
   "source": [
    "a = (\"Apple\",\"Zebra\",\"ball\",\"Xray\",\"1Rose\",\".food\",\"2\",\"ball\")\n",
    "b = a[0:3]\n",
    "c = a[4:]\n",
    "d = b+c\n",
    "print(d)"
   ]
  },
  {
   "cell_type": "code",
   "execution_count": 24,
   "metadata": {},
   "outputs": [
    {
     "name": "stdout",
     "output_type": "stream",
     "text": [
      "('Apple', 'Zebra', 'ball', 'xray', '1Rose', '.food', '2', 'ball')\n"
     ]
    }
   ],
   "source": [
    "a = (\"Apple\",\"Zebra\",\"ball\",\"Xray\",\"1Rose\",\".food\",\"2\",\"ball\")\n",
    "b = a[0:3]\n",
    "c = a[4:]\n",
    "f = (\"xray\",)\n",
    "d = b+f+c\n",
    "print(d)"
   ]
  },
  {
   "cell_type": "code",
   "execution_count": 27,
   "metadata": {},
   "outputs": [
    {
     "name": "stdout",
     "output_type": "stream",
     "text": [
      "('Apple', 'Zebra', 'ball', '1Rose', '.food', '2', 'ball')\n"
     ]
    }
   ],
   "source": [
    "a = (\"Apple\",\"Zebra\",\"ball\",\"Xray\",\"1Rose\",\".food\",\"2\",\"ball\")\n",
    "b = list(a)\n",
    "b.remove(\"Xray\")\n",
    "a = tuple(b)\n",
    "print(a)"
   ]
  },
  {
   "cell_type": "code",
   "execution_count": 28,
   "metadata": {},
   "outputs": [
    {
     "data": {
      "text/plain": [
       "['A', 'p', 'p', 'l', 'e']"
      ]
     },
     "execution_count": 28,
     "metadata": {},
     "output_type": "execute_result"
    }
   ],
   "source": [
    "a = \"Apple\"\n",
    "list(a)"
   ]
  },
  {
   "cell_type": "code",
   "execution_count": 29,
   "metadata": {},
   "outputs": [
    {
     "data": {
      "text/plain": [
       "('A', 'p', 'p', 'l', 'e')"
      ]
     },
     "execution_count": 29,
     "metadata": {},
     "output_type": "execute_result"
    }
   ],
   "source": [
    "a = \"Apple\"\n",
    "tuple(a)"
   ]
  },
  {
   "cell_type": "code",
   "execution_count": 30,
   "metadata": {},
   "outputs": [
    {
     "data": {
      "text/plain": [
       "\"('A', 'p', 'p', 'l', 'e')\""
      ]
     },
     "execution_count": 30,
     "metadata": {},
     "output_type": "execute_result"
    }
   ],
   "source": [
    "a = \"Apple\"\n",
    "b = tuple(a)\n",
    "c = str(b)\n",
    "c"
   ]
  },
  {
   "cell_type": "code",
   "execution_count": 31,
   "metadata": {},
   "outputs": [],
   "source": [
    "# tuple inside tuple\n",
    "# tuple inside list\n",
    "# list inside tuple"
   ]
  },
  {
   "cell_type": "code",
   "execution_count": 32,
   "metadata": {},
   "outputs": [
    {
     "name": "stdout",
     "output_type": "stream",
     "text": [
      "3\n"
     ]
    }
   ],
   "source": [
    "# tuple inside tuple\n",
    "a = ((1,2,3),\n",
    "     (4,5,6),\n",
    "     (7,8,9))\n",
    "print(len(a))"
   ]
  },
  {
   "cell_type": "code",
   "execution_count": 33,
   "metadata": {},
   "outputs": [
    {
     "name": "stdout",
     "output_type": "stream",
     "text": [
      "Enter n = 2\n",
      "Enter name = Ram\n",
      "Enter age = 23\n",
      "Enter address = Kathmandu\n",
      "Enter name = Shyam\n",
      "Enter age = 34\n",
      "Enter address = Patan\n",
      "(('Ram', 23, 'Kathmandu'), ('Shyam', 34, 'Patan'))\n"
     ]
    }
   ],
   "source": [
    "info = ()\n",
    "n = int(input(\"Enter n = \"))\n",
    "for i in range(n):\n",
    "    name = input(\"Enter name = \")\n",
    "    age = int(input(\"Enter age = \"))\n",
    "    add = input(\"Enter address = \")\n",
    "    data = ((name,age,add),)\n",
    "    info = info+data\n",
    "    \n",
    "print(info)"
   ]
  },
  {
   "cell_type": "code",
   "execution_count": 34,
   "metadata": {},
   "outputs": [
    {
     "data": {
      "text/plain": [
       "[('Ram', 23, 'Kathmandu'), ('Shyam', 34, 'Patan')]"
      ]
     },
     "execution_count": 34,
     "metadata": {},
     "output_type": "execute_result"
    }
   ],
   "source": [
    "# tuple inside list\n",
    "a = (('Ram', 23, 'Kathmandu'), ('Shyam', 34, 'Patan'))\n",
    "b = list(a)\n",
    "b"
   ]
  },
  {
   "cell_type": "code",
   "execution_count": 35,
   "metadata": {},
   "outputs": [
    {
     "name": "stdout",
     "output_type": "stream",
     "text": [
      "Enter n = 2\n",
      "Enter name = Ram\n",
      "Enter age = 34\n",
      "Enter address = Kathmandu\n",
      "Enter name = Shyam\n",
      "Enter age = 45\n",
      "Enter address = Bara\n",
      "[('Ram', 34, 'Kathmandu'), ('Shyam', 45, 'Bara')]\n"
     ]
    }
   ],
   "source": [
    "info = []\n",
    "n = int(input(\"Enter n = \"))\n",
    "for i in range(n):\n",
    "    name = input(\"Enter name = \")\n",
    "    age = int(input(\"Enter age = \"))\n",
    "    add = input(\"Enter address = \")\n",
    "    data = (name,age,add)\n",
    "    info.append(data)\n",
    "    \n",
    "print(info)"
   ]
  },
  {
   "cell_type": "code",
   "execution_count": 36,
   "metadata": {},
   "outputs": [
    {
     "data": {
      "text/plain": [
       "[('Shyam', 45, 'Bara')]"
      ]
     },
     "execution_count": 36,
     "metadata": {},
     "output_type": "execute_result"
    }
   ],
   "source": [
    "a = [('Ram', 34, 'Kathmandu'), ('Shyam', 45, 'Bara')]\n",
    "del a[0]\n",
    "a"
   ]
  },
  {
   "cell_type": "code",
   "execution_count": 40,
   "metadata": {},
   "outputs": [
    {
     "data": {
      "text/plain": [
       "[('Rama', 34, 'Kathmandu'), ('Shyam', 45, 'Bara')]"
      ]
     },
     "execution_count": 40,
     "metadata": {},
     "output_type": "execute_result"
    }
   ],
   "source": [
    "a = [('Ram', 34, 'Kathmandu'), ('Shyam', 45, 'Bara')]\n",
    "a[0] = ('Rama', 34, 'Kathmandu')\n",
    "a"
   ]
  },
  {
   "cell_type": "code",
   "execution_count": 43,
   "metadata": {},
   "outputs": [
    {
     "ename": "TypeError",
     "evalue": "'tuple' object doesn't support item deletion",
     "output_type": "error",
     "traceback": [
      "\u001b[1;31m---------------------------------------------------------------------------\u001b[0m",
      "\u001b[1;31mTypeError\u001b[0m                                 Traceback (most recent call last)",
      "\u001b[1;32m<ipython-input-43-1e33df0b109b>\u001b[0m in \u001b[0;36m<module>\u001b[1;34m\u001b[0m\n\u001b[0;32m      1\u001b[0m \u001b[0ma\u001b[0m \u001b[1;33m=\u001b[0m \u001b[1;33m[\u001b[0m\u001b[1;33m(\u001b[0m\u001b[1;34m'Ram'\u001b[0m\u001b[1;33m,\u001b[0m \u001b[1;36m34\u001b[0m\u001b[1;33m,\u001b[0m \u001b[1;34m'Kathmandu'\u001b[0m\u001b[1;33m)\u001b[0m\u001b[1;33m,\u001b[0m \u001b[1;33m(\u001b[0m\u001b[1;34m'Shyam'\u001b[0m\u001b[1;33m,\u001b[0m \u001b[1;36m45\u001b[0m\u001b[1;33m,\u001b[0m \u001b[1;34m'Bara'\u001b[0m\u001b[1;33m)\u001b[0m\u001b[1;33m]\u001b[0m\u001b[1;33m\u001b[0m\u001b[1;33m\u001b[0m\u001b[0m\n\u001b[1;32m----> 2\u001b[1;33m \u001b[1;32mdel\u001b[0m \u001b[0ma\u001b[0m\u001b[1;33m[\u001b[0m\u001b[1;36m0\u001b[0m\u001b[1;33m]\u001b[0m\u001b[1;33m[\u001b[0m\u001b[1;36m0\u001b[0m\u001b[1;33m]\u001b[0m\u001b[1;33m\u001b[0m\u001b[1;33m\u001b[0m\u001b[0m\n\u001b[0m",
      "\u001b[1;31mTypeError\u001b[0m: 'tuple' object doesn't support item deletion"
     ]
    }
   ],
   "source": [
    "a = [('Ram', 34, 'Kathmandu'), ('Shyam', 45, 'Bara')]\n",
    "del a[0][0]"
   ]
  },
  {
   "cell_type": "code",
   "execution_count": 44,
   "metadata": {},
   "outputs": [
    {
     "data": {
      "text/plain": [
       "(['Ram', 34, 'Kathmandu'], ['Shyam', 45, 'Bara'])"
      ]
     },
     "execution_count": 44,
     "metadata": {},
     "output_type": "execute_result"
    }
   ],
   "source": [
    "# list inside tuple\n",
    "a = (['Ram', 34, 'Kathmandu'], ['Shyam', 45, 'Bara'])\n",
    "a"
   ]
  },
  {
   "cell_type": "code",
   "execution_count": 45,
   "metadata": {},
   "outputs": [
    {
     "name": "stdout",
     "output_type": "stream",
     "text": [
      "Enter n = 2\n",
      "Enter name = Ram\n",
      "Enter age = 34\n",
      "Enter address = Kathmandu\n",
      "Enter name = Shyam\n",
      "Enter age = 45\n",
      "Enter address = Bara\n",
      "(['Ram', 34, 'Kathmandu'], ['Shyam', 45, 'Bara'])\n"
     ]
    }
   ],
   "source": [
    "info = ()\n",
    "n = int(input(\"Enter n = \"))\n",
    "for i in range(n):\n",
    "    name = input(\"Enter name = \")\n",
    "    age = int(input(\"Enter age = \"))\n",
    "    add = input(\"Enter address = \")\n",
    "    data = [name,age,add]\n",
    "    info = info+(data,)\n",
    "    \n",
    "print(info)"
   ]
  },
  {
   "cell_type": "code",
   "execution_count": 47,
   "metadata": {},
   "outputs": [
    {
     "data": {
      "text/plain": [
       "['Ram', 34, 'Kathmandu']"
      ]
     },
     "execution_count": 47,
     "metadata": {},
     "output_type": "execute_result"
    }
   ],
   "source": [
    "a = (['Ram', 34, 'Kathmandu'], ['Shyam', 45, 'Bara'])\n",
    "a[0]"
   ]
  },
  {
   "cell_type": "code",
   "execution_count": 48,
   "metadata": {},
   "outputs": [
    {
     "ename": "TypeError",
     "evalue": "'tuple' object doesn't support item deletion",
     "output_type": "error",
     "traceback": [
      "\u001b[1;31m---------------------------------------------------------------------------\u001b[0m",
      "\u001b[1;31mTypeError\u001b[0m                                 Traceback (most recent call last)",
      "\u001b[1;32m<ipython-input-48-db97af926c22>\u001b[0m in \u001b[0;36m<module>\u001b[1;34m\u001b[0m\n\u001b[0;32m      1\u001b[0m \u001b[0ma\u001b[0m \u001b[1;33m=\u001b[0m \u001b[1;33m(\u001b[0m\u001b[1;33m[\u001b[0m\u001b[1;34m'Ram'\u001b[0m\u001b[1;33m,\u001b[0m \u001b[1;36m34\u001b[0m\u001b[1;33m,\u001b[0m \u001b[1;34m'Kathmandu'\u001b[0m\u001b[1;33m]\u001b[0m\u001b[1;33m,\u001b[0m \u001b[1;33m[\u001b[0m\u001b[1;34m'Shyam'\u001b[0m\u001b[1;33m,\u001b[0m \u001b[1;36m45\u001b[0m\u001b[1;33m,\u001b[0m \u001b[1;34m'Bara'\u001b[0m\u001b[1;33m]\u001b[0m\u001b[1;33m)\u001b[0m\u001b[1;33m\u001b[0m\u001b[1;33m\u001b[0m\u001b[0m\n\u001b[1;32m----> 2\u001b[1;33m \u001b[1;32mdel\u001b[0m \u001b[0ma\u001b[0m\u001b[1;33m[\u001b[0m\u001b[1;36m0\u001b[0m\u001b[1;33m]\u001b[0m\u001b[1;33m\u001b[0m\u001b[1;33m\u001b[0m\u001b[0m\n\u001b[0m\u001b[0;32m      3\u001b[0m \u001b[0ma\u001b[0m\u001b[1;33m\u001b[0m\u001b[1;33m\u001b[0m\u001b[0m\n",
      "\u001b[1;31mTypeError\u001b[0m: 'tuple' object doesn't support item deletion"
     ]
    }
   ],
   "source": [
    "a = (['Ram', 34, 'Kathmandu'], ['Shyam', 45, 'Bara'])\n",
    "del a[0]\n",
    "a"
   ]
  },
  {
   "cell_type": "code",
   "execution_count": 49,
   "metadata": {},
   "outputs": [
    {
     "data": {
      "text/plain": [
       "([34, 'Kathmandu'], ['Shyam', 45, 'Bara'])"
      ]
     },
     "execution_count": 49,
     "metadata": {},
     "output_type": "execute_result"
    }
   ],
   "source": [
    "a = (['Ram', 34, 'Kathmandu'], ['Shyam', 45, 'Bara'])\n",
    "del a[0][0]\n",
    "a"
   ]
  },
  {
   "cell_type": "code",
   "execution_count": 50,
   "metadata": {},
   "outputs": [
    {
     "data": {
      "text/plain": [
       "(['Rama', 34, 'Kathmandu'], ['Shyam', 45, 'Bara'])"
      ]
     },
     "execution_count": 50,
     "metadata": {},
     "output_type": "execute_result"
    }
   ],
   "source": [
    "a = (['Ram', 34, 'Kathmandu'], ['Shyam', 45, 'Bara'])\n",
    "a[0][0] = \"Rama\"\n",
    "a"
   ]
  },
  {
   "cell_type": "code",
   "execution_count": null,
   "metadata": {},
   "outputs": [],
   "source": [
    "a = ((1,2,3),(4,5,6),(7,8,9))\n"
   ]
  }
 ],
 "metadata": {
  "kernelspec": {
   "display_name": "Python 3",
   "language": "python",
   "name": "python3"
  },
  "language_info": {
   "codemirror_mode": {
    "name": "ipython",
    "version": 3
   },
   "file_extension": ".py",
   "mimetype": "text/x-python",
   "name": "python",
   "nbconvert_exporter": "python",
   "pygments_lexer": "ipython3",
   "version": "3.7.1"
  }
 },
 "nbformat": 4,
 "nbformat_minor": 2
}
