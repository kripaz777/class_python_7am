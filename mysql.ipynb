{
 "cells": [
  {
   "cell_type": "code",
   "execution_count": 13,
   "metadata": {},
   "outputs": [],
   "source": [
    "import mysql.connector\n",
    "#importing database\n",
    "database = mysql.connector.connect(\n",
    "    host=\"localhost\",\n",
    "    user=\"root\",\n",
    "    password=\"\",\n",
    "    database = \"class12pm\"\n",
    ")\n",
    "db = database.cursor()"
   ]
  },
  {
   "cell_type": "code",
   "execution_count": 14,
   "metadata": {},
   "outputs": [
    {
     "name": "stdout",
     "output_type": "stream",
     "text": [
      "(1, 'Ram', 986744567, 'yes', datetime.datetime(2021, 7, 4, 0, 0))\n",
      "(2, 'Shyam', 986744567, 'yes', datetime.datetime(2021, 7, 4, 12, 41, 14))\n",
      "(3, 'hari', 9867445, 'yes', datetime.datetime(2021, 7, 4, 12, 43, 9))\n",
      "(4, 'Nabin', 986766565, 'no', datetime.datetime(2021, 7, 4, 12, 43, 9))\n"
     ]
    }
   ],
   "source": [
    "# Selecting data from database\n",
    "db.execute(\"SELECT * FROM account\")\n",
    "result =db.fetchall()\n",
    "for x in result:\n",
    "    print(x)"
   ]
  },
  {
   "cell_type": "code",
   "execution_count": 15,
   "metadata": {},
   "outputs": [
    {
     "name": "stdout",
     "output_type": "stream",
     "text": [
      "(1, 'Ram', 986744567)\n",
      "(2, 'Shyam', 986744567)\n",
      "(3, 'hari', 9867445)\n",
      "(4, 'Nabin', 986766565)\n"
     ]
    }
   ],
   "source": [
    "db.execute(\"SELECT id,name,phone FROM account\")\n",
    "result =db.fetchall()\n",
    "for x in result:\n",
    "    print(x)"
   ]
  },
  {
   "cell_type": "code",
   "execution_count": 22,
   "metadata": {},
   "outputs": [
    {
     "name": "stdout",
     "output_type": "stream",
     "text": [
      "Enter cat = Nepali\n",
      "(19, 'French Fries', 'Nepali', 150, '', 'Veg Snacks')\n",
      "(20, 'Chips Chilli', 'Nepali', 180, '', 'Veg Snacks')\n",
      "(21, 'Chicken Chilli', 'Nepali', 300, '', 'Non Veg Snacks')\n",
      "(22, 'Buff Chilli', 'Nepali', 300, '', 'Non Veg Snacks')\n",
      "(23, 'Mushroom Chilli', 'Nepali', 280, '', 'Veg Snacks')\n",
      "(24, 'Chicken Wings', 'Nepali', 350, '', 'Non Veg Snacks')\n",
      "(25, 'Chicken Drumsticks', 'Nepali', 350, '', 'Non Veg Snacks')\n",
      "(26, 'Aloo Dum', 'Nepali', 150, '', 'Veg Snacks')\n",
      "(27, 'Hot Garlic Potato', 'Nepali', 200, '', 'Non Veg Snacks')\n",
      "(28, 'Vegetable Pakoda', 'Nepali', 200, '', 'Veg Snacks')\n",
      "(29, 'Paneer Pakoda', 'Nepali', 300, '', 'Veg Snacks')\n",
      "(30, 'Veg. Thakali', 'Nepali', 200, '', 'Nepali Khana')\n",
      "(31, 'Chicken Thakali', 'Nepali', 250, '', 'Nepali Khana')\n",
      "(32, 'Buff Thakali', 'Nepali', 280, '', 'Nepali Khana')\n",
      "(33, 'Pork Thakali', 'Nepali', 280, '', 'Nepali Khana')\n",
      "(49, 'Veg. Fried Rice', 'Nepali', 140, '', 'Rice')\n",
      "(50, 'Chicken Fried Rice', 'Nepali', 160, '', 'Rice')\n",
      "(51, 'Buff Fried Rice', 'Nepali', 170, '', 'Rice')\n",
      "(52, 'Pork Fried Rice', 'Nepali', 200, '', 'Rice')\n",
      "(53, 'Egg Fried Rice', 'Nepali', 160, '', 'Rice')\n",
      "(54, 'Mix Fried Rice', 'Nepali', 190, '', 'Rice')\n",
      "(55, 'Veg. Chowmein', 'Nepali', 140, '', 'Noodels')\n",
      "(56, 'Buff Chowmein', 'Nepali', 170, '', 'Noodels')\n",
      "(57, 'Egg Chowmein', 'Nepali', 160, '', 'Noodels')\n",
      "(58, 'Chicken Chowmein', 'Nepali', 200, '', 'Noodels')\n",
      "(59, 'Pork Chowmein', 'Nepali', 170, '', 'Noodels')\n",
      "(60, 'Mix Chowmein', 'Nepali', 190, '', 'Noodels')\n",
      "(61, 'Veg. Thukpa', 'Nepali', 140, '', 'Thukpa')\n",
      "(62, 'Non Veg. Thukpa', 'Nepali', 170, '', 'Thukpa')\n",
      "(63, 'Veg. Momo', 'Nepali', 150, '', 'MoMo')\n",
      "(64, 'Buff MoMo', 'Nepali', 170, '', 'MoMo')\n",
      "(65, 'Chicken MoMo', 'Nepali', 170, '', 'MoMo')\n",
      "(66, 'Veg. Soup MoMo', 'Nepali', 150, '', 'Special Soup MoMo')\n",
      "(67, 'Buff Soup MoMo', 'Nepali', 170, '', 'Special Soup MoMo')\n",
      "(68, 'Chicken Soup MoMo', 'Nepali', 170, '', 'Special Soup MoMo')\n"
     ]
    }
   ],
   "source": [
    "import mysql.connector\n",
    "#importing database\n",
    "database = mysql.connector.connect(\n",
    "    host=\"localhost\",\n",
    "    user=\"root\",\n",
    "    password=\"\",\n",
    "    database = \"chinese\"\n",
    ")\n",
    "db = database.cursor()\n",
    "category = input(\"Enter cat = \")\n",
    "db.execute(f\"SELECT * FROM food WHERE cat = '{category}'\")\n",
    "result =db.fetchall()\n",
    "for x in result:\n",
    "    print(x)"
   ]
  },
  {
   "cell_type": "code",
   "execution_count": 23,
   "metadata": {},
   "outputs": [
    {
     "name": "stdout",
     "output_type": "stream",
     "text": [
      "Enter price = 200\n",
      "SELECT name,price FROM food WHERE price <200 \n",
      "('Veg .Sandwich', 150)\n",
      "('Non Veg .Sandwich', 150)\n",
      "('French Fries', 150)\n",
      "('Chips Chilli', 180)\n",
      "('Aloo Dum', 150)\n",
      "('Veg. Sandwich', 150)\n",
      "('Chicken Sandwich', 180)\n",
      "('Veg. Burger', 150)\n",
      "('Chicken Burger', 180)\n",
      "('Ham Burger', 190)\n",
      "('Veg. Fried Rice', 140)\n",
      "('Chicken Fried Rice', 160)\n",
      "('Buff Fried Rice', 170)\n",
      "('Egg Fried Rice', 160)\n",
      "('Mix Fried Rice', 190)\n",
      "('Veg. Chowmein', 140)\n",
      "('Buff Chowmein', 170)\n",
      "('Egg Chowmein', 160)\n",
      "('Pork Chowmein', 170)\n",
      "('Mix Chowmein', 190)\n",
      "('Veg. Thukpa', 140)\n",
      "('Non Veg. Thukpa', 170)\n",
      "('Veg. Momo', 150)\n",
      "('Buff MoMo', 170)\n",
      "('Chicken MoMo', 170)\n",
      "('Veg. Soup MoMo', 150)\n",
      "('Buff Soup MoMo', 170)\n",
      "('Chicken Soup MoMo', 170)\n",
      "('Plain Rice', 50)\n",
      "('Veg. Curry', 150)\n",
      "('Plain Dal Curry', 100)\n",
      "('Fried Dal Curry', 140)\n",
      "('Alu Mattar', 160)\n",
      "('Tawa Roti', 25)\n",
      "('Plain Paratha', 40)\n",
      "('Alu Paratha', 60)\n",
      "('Momo', 100)\n",
      "('Momo', 100)\n",
      "('Momo', 100)\n"
     ]
    }
   ],
   "source": [
    "price = int(input(\"Enter price = \"))\n",
    "sql = f\"SELECT name,price FROM food WHERE price <{price} \"\n",
    "print(sql)\n",
    "db.execute(sql)\n",
    "result =db.fetchall()\n",
    "for x in result:\n",
    "    print(x)"
   ]
  },
  {
   "cell_type": "code",
   "execution_count": 25,
   "metadata": {},
   "outputs": [
    {
     "name": "stdout",
     "output_type": "stream",
     "text": [
      "Enter food name = buff\n",
      "SELECT name,price FROM food WHERE name LIKE '%buff%' \n",
      "('Buff Chilli', 300)\n",
      "('Buff Thakali', 280)\n",
      "('Buff Fried Rice', 170)\n",
      "('Buff Chowmein', 170)\n",
      "('Buff MoMo', 170)\n",
      "('Buff Soup MoMo', 170)\n",
      "('Buff Sizzler', 450)\n",
      "('Buff Curry', 220)\n"
     ]
    }
   ],
   "source": [
    "food = input(\"Enter food name = \")\n",
    "sql = f\"SELECT name,price FROM food WHERE name LIKE '%{food}%' \"\n",
    "print(sql)\n",
    "db.execute(sql)\n",
    "result =db.fetchall()\n",
    "for x in result:\n",
    "    print(x)"
   ]
  },
  {
   "cell_type": "code",
   "execution_count": 5,
   "metadata": {},
   "outputs": [
    {
     "name": "stdout",
     "output_type": "stream",
     "text": [
      "Enter name = Nabin\n",
      "Enter phone = 9856556543\n",
      "Enter yes or no = yes\n",
      "Enter total = 1000\n"
     ]
    }
   ],
   "source": [
    "import mysql.connector\n",
    "#importing database\n",
    "database = mysql.connector.connect(\n",
    "    host=\"localhost\",\n",
    "    user=\"root\",\n",
    "    password=\"\",\n",
    "    database = \"class12pm\"\n",
    ")\n",
    "db = database.cursor()\n",
    "\n",
    "name = input(\"Enter name = \")\n",
    "phone = int(input(\"Enter phone = \"))\n",
    "payment = input(\"Enter yes or no = \")\n",
    "total = int(input(\"Enter total = \"))\n",
    "\n",
    "sql = f\"INSERT INTO account(name,phone,payment,total) VALUES('{name}',{phone},'{payment}',{total})\"\n",
    "db.execute(sql)\n",
    "database.commit()"
   ]
  },
  {
   "cell_type": "code",
   "execution_count": 7,
   "metadata": {},
   "outputs": [
    {
     "name": "stdout",
     "output_type": "stream",
     "text": [
      "Enter id = 5\n",
      "Enter phone = 9800000\n",
      "Enter name = Nabina\n"
     ]
    }
   ],
   "source": [
    "import mysql.connector\n",
    "#importing database\n",
    "database = mysql.connector.connect(\n",
    "    host=\"localhost\",\n",
    "    user=\"root\",\n",
    "    password=\"\",\n",
    "    database = \"class12pm\"\n",
    ")\n",
    "db = database.cursor()\n",
    "\n",
    "ids = int(input(\"Enter id = \"))\n",
    "phone = int(input(\"Enter phone = \"))\n",
    "name = input(\"Enter name = \")\n",
    "\n",
    "sql = f\"UPDATE account SET phone = {phone} , name = '{name}' WHERE id = {ids}\"\n",
    "db.execute(sql)\n",
    "database.commit()"
   ]
  },
  {
   "cell_type": "code",
   "execution_count": 10,
   "metadata": {},
   "outputs": [
    {
     "name": "stdout",
     "output_type": "stream",
     "text": [
      "Enter id = 5\n",
      "DELETE FROM account WHERE id = 5\n"
     ]
    }
   ],
   "source": [
    "ids = int(input(\"Enter id = \"))\n",
    "\n",
    "\n",
    "sql = f\"DELETE FROM account WHERE id = {ids}\"\n",
    "print(sql)\n",
    "db.execute(sql)\n",
    "database.commit()"
   ]
  },
  {
   "cell_type": "code",
   "execution_count": 12,
   "metadata": {},
   "outputs": [
    {
     "ename": "AttributeError",
     "evalue": "module 'time' has no attribute 'datetime'",
     "output_type": "error",
     "traceback": [
      "\u001b[1;31m---------------------------------------------------------------------------\u001b[0m",
      "\u001b[1;31mAttributeError\u001b[0m                            Traceback (most recent call last)",
      "\u001b[1;32m<ipython-input-12-c7974b0cfee7>\u001b[0m in \u001b[0;36m<module>\u001b[1;34m\u001b[0m\n\u001b[0;32m      1\u001b[0m \u001b[1;32mimport\u001b[0m \u001b[0mtime\u001b[0m\u001b[1;33m\u001b[0m\u001b[1;33m\u001b[0m\u001b[0m\n\u001b[1;32m----> 2\u001b[1;33m \u001b[0mtime\u001b[0m\u001b[1;33m.\u001b[0m\u001b[0mdatetime\u001b[0m\u001b[1;33m.\u001b[0m\u001b[0mnow\u001b[0m\u001b[1;33m(\u001b[0m\u001b[1;33m)\u001b[0m\u001b[1;33m\u001b[0m\u001b[1;33m\u001b[0m\u001b[0m\n\u001b[0m",
      "\u001b[1;31mAttributeError\u001b[0m: module 'time' has no attribute 'datetime'"
     ]
    }
   ],
   "source": [
    "import time\n",
    "time.datetime.now()"
   ]
  },
  {
   "cell_type": "code",
   "execution_count": null,
   "metadata": {},
   "outputs": [],
   "source": []
  }
 ],
 "metadata": {
  "kernelspec": {
   "display_name": "Python 3",
   "language": "python",
   "name": "python3"
  },
  "language_info": {
   "codemirror_mode": {
    "name": "ipython",
    "version": 3
   },
   "file_extension": ".py",
   "mimetype": "text/x-python",
   "name": "python",
   "nbconvert_exporter": "python",
   "pygments_lexer": "ipython3",
   "version": "3.7.1"
  }
 },
 "nbformat": 4,
 "nbformat_minor": 2
}
