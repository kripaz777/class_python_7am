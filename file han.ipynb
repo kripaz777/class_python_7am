{
 "cells": [
  {
   "cell_type": "code",
   "execution_count": 1,
   "metadata": {},
   "outputs": [],
   "source": [
    "# f = open('<file_name>','<mode>')"
   ]
  },
  {
   "cell_type": "code",
   "execution_count": 2,
   "metadata": {},
   "outputs": [],
   "source": [
    "f = open('data.txt','x')\n",
    "f.close()"
   ]
  },
  {
   "cell_type": "code",
   "execution_count": 3,
   "metadata": {},
   "outputs": [
    {
     "name": "stdout",
     "output_type": "stream",
     "text": [
      "1.Hello World\n",
      "2.Hello World\n",
      "3.Hello World\n",
      "4.Hello World\n",
      "5.Hello World\n",
      "6.Hello World\n",
      "7.Hello World\n"
     ]
    }
   ],
   "source": [
    "f = open('data.txt','r')\n",
    "print(f.read())\n",
    "f.close()"
   ]
  },
  {
   "cell_type": "code",
   "execution_count": 4,
   "metadata": {},
   "outputs": [
    {
     "name": "stdout",
     "output_type": "stream",
     "text": [
      "1.Hello World\n",
      "\n"
     ]
    }
   ],
   "source": [
    "f = open('data.txt','r')\n",
    "print(f.readline())\n",
    "f.close()"
   ]
  },
  {
   "cell_type": "code",
   "execution_count": 5,
   "metadata": {},
   "outputs": [
    {
     "name": "stdout",
     "output_type": "stream",
     "text": [
      "1.Hello Wo\n"
     ]
    }
   ],
   "source": [
    "f = open('data.txt','r')\n",
    "print(f.readline(10))\n",
    "f.close()"
   ]
  },
  {
   "cell_type": "code",
   "execution_count": 6,
   "metadata": {},
   "outputs": [
    {
     "name": "stdout",
     "output_type": "stream",
     "text": [
      "2.Hello World\n",
      "\n"
     ]
    }
   ],
   "source": [
    "f = open('data.txt','r')\n",
    "f.readline()\n",
    "print(f.readline())\n",
    "f.close()"
   ]
  },
  {
   "cell_type": "code",
   "execution_count": 8,
   "metadata": {},
   "outputs": [
    {
     "name": "stdout",
     "output_type": "stream",
     "text": [
      "Enter n = 3\n",
      "3.Hello World\n",
      "\n",
      "\n"
     ]
    }
   ],
   "source": [
    "f = open('data.txt','r')\n",
    "n = int(input(\"Enter n = \"))\n",
    "total_line = 7\n",
    "for i in range(1,total_line+1):\n",
    "    if i!= n:\n",
    "        f.readline()\n",
    "    else:\n",
    "        print(f.readline())\n",
    "\n",
    "        \n",
    "f.close()"
   ]
  },
  {
   "cell_type": "code",
   "execution_count": 10,
   "metadata": {},
   "outputs": [
    {
     "name": "stdout",
     "output_type": "stream",
     "text": [
      "1.Hello World\n",
      "2.Hello World\n",
      "3.Hello World\n",
      "4.Hello World\n",
      "5.Hello World\n",
      "6.Hello World\n",
      "7.Hello World\n",
      "<class 'str'>\n"
     ]
    }
   ],
   "source": [
    "f = open('data.txt','r')\n",
    "b = f.read()\n",
    "print(b)\n",
    "print(type(b))\n",
    "f.close()"
   ]
  },
  {
   "cell_type": "code",
   "execution_count": 11,
   "metadata": {},
   "outputs": [
    {
     "data": {
      "text/plain": [
       "['1.Hello World',\n",
       " '2.Hello World',\n",
       " '3.Hello World',\n",
       " '4.Hello World',\n",
       " '5.Hello World',\n",
       " '6.Hello World',\n",
       " '7.Hello World']"
      ]
     },
     "execution_count": 11,
     "metadata": {},
     "output_type": "execute_result"
    }
   ],
   "source": [
    "b.split('\\n')"
   ]
  },
  {
   "cell_type": "code",
   "execution_count": 14,
   "metadata": {},
   "outputs": [
    {
     "name": "stdout",
     "output_type": "stream",
     "text": [
      "Entre n = 2\n",
      "Enter name = Coke\n",
      "Enter price = 200\n",
      "Enter quantity = 2\n",
      "Enter name = Fanta\n",
      "Enter price = 1\n",
      "Enter quantity = 200\n",
      "Coke 200 2 400\n",
      "Fanta 1 200 200\n",
      "\n"
     ]
    }
   ],
   "source": [
    "f = open('bill.txt','a')\n",
    "n = int(input(\"Entre n = \"))\n",
    "data = str()\n",
    "grand_total = 0\n",
    "for i in range(n):\n",
    "    name = input(\"Enter name = \")\n",
    "    price = int(input(\"Enter price = \"))\n",
    "    quantity = int(input(\"Enter quantity = \"))\n",
    "    total  = price*quantity\n",
    "\n",
    "    info = f\"{name} {price} {quantity} {total}\\n\"\n",
    "    data = data+info\n",
    "    grand_total = grand_total+total\n",
    "print(data)\n",
    "\n",
    "\n",
    "f.write(data)\n",
    "f.close()"
   ]
  },
  {
   "cell_type": "code",
   "execution_count": 16,
   "metadata": {},
   "outputs": [
    {
     "name": "stdout",
     "output_type": "stream",
     "text": [
      "Entre n = 2\n",
      "Enter name = Apple\n",
      "Enter price = 100\n",
      "Enter quantity = 3\n",
      "Enter name = Banana\n",
      "Enter price = 3\n",
      "Enter quantity = 250\n",
      "Apple,100,3,300\n",
      "Banana,3,250,750\n",
      "\n"
     ]
    }
   ],
   "source": [
    "f = open('bill.csv','w')\n",
    "f.write('Name,Price,Quantity,Total\\n')\n",
    "n = int(input(\"Entre n = \"))\n",
    "data = str()\n",
    "grand_total = 0\n",
    "for i in range(n):\n",
    "    name = input(\"Enter name = \")\n",
    "    price = int(input(\"Enter price = \"))\n",
    "    quantity = int(input(\"Enter quantity = \"))\n",
    "    total  = price*quantity\n",
    "\n",
    "    info = f\"{name},{price},{quantity},{total}\\n\"\n",
    "    data = data+info\n",
    "    grand_total = grand_total+total\n",
    "print(data)\n",
    "\n",
    "\n",
    "f.write(data)\n",
    "f.close()"
   ]
  },
  {
   "cell_type": "code",
   "execution_count": 17,
   "metadata": {},
   "outputs": [
    {
     "name": "stdout",
     "output_type": "stream",
     "text": [
      "Name,Price,Quantity,Total\n",
      "Apple,100,3,300\n",
      "Banana,3,250,750\n",
      "\n"
     ]
    }
   ],
   "source": [
    "b = open('bill.csv')\n",
    "print(b.read())"
   ]
  },
  {
   "cell_type": "code",
   "execution_count": 18,
   "metadata": {},
   "outputs": [
    {
     "data": {
      "text/html": [
       "<div>\n",
       "<style scoped>\n",
       "    .dataframe tbody tr th:only-of-type {\n",
       "        vertical-align: middle;\n",
       "    }\n",
       "\n",
       "    .dataframe tbody tr th {\n",
       "        vertical-align: top;\n",
       "    }\n",
       "\n",
       "    .dataframe thead th {\n",
       "        text-align: right;\n",
       "    }\n",
       "</style>\n",
       "<table border=\"1\" class=\"dataframe\">\n",
       "  <thead>\n",
       "    <tr style=\"text-align: right;\">\n",
       "      <th></th>\n",
       "      <th>Name</th>\n",
       "      <th>Price</th>\n",
       "      <th>Quantity</th>\n",
       "      <th>Total</th>\n",
       "    </tr>\n",
       "  </thead>\n",
       "  <tbody>\n",
       "    <tr>\n",
       "      <th>0</th>\n",
       "      <td>Apple</td>\n",
       "      <td>100</td>\n",
       "      <td>3</td>\n",
       "      <td>300</td>\n",
       "    </tr>\n",
       "    <tr>\n",
       "      <th>1</th>\n",
       "      <td>Banana</td>\n",
       "      <td>3</td>\n",
       "      <td>250</td>\n",
       "      <td>750</td>\n",
       "    </tr>\n",
       "  </tbody>\n",
       "</table>\n",
       "</div>"
      ],
      "text/plain": [
       "     Name  Price  Quantity  Total\n",
       "0   Apple    100         3    300\n",
       "1  Banana      3       250    750"
      ]
     },
     "execution_count": 18,
     "metadata": {},
     "output_type": "execute_result"
    }
   ],
   "source": [
    "import pandas as pd\n",
    "df = pd.read_csv('bill.csv')\n",
    "df"
   ]
  },
  {
   "cell_type": "code",
   "execution_count": 19,
   "metadata": {},
   "outputs": [],
   "source": [
    "import os\n",
    "os.remove('bill.txt')"
   ]
  },
  {
   "cell_type": "code",
   "execution_count": 20,
   "metadata": {},
   "outputs": [],
   "source": [
    "import os\n",
    "os.remove('../Desktop/download.png')"
   ]
  },
  {
   "cell_type": "code",
   "execution_count": 21,
   "metadata": {},
   "outputs": [
    {
     "data": {
      "text/plain": [
       "'Untitled Folder\\\\data.txt'"
      ]
     },
     "execution_count": 21,
     "metadata": {},
     "output_type": "execute_result"
    }
   ],
   "source": [
    "import shutil as s\n",
    "\n",
    "dst= 'Untitled Folder'\n",
    "src = 'data.txt'\n",
    "s.copy(src,dst)"
   ]
  },
  {
   "cell_type": "code",
   "execution_count": 22,
   "metadata": {},
   "outputs": [
    {
     "data": {
      "text/plain": [
       "'Untitled Folder1'"
      ]
     },
     "execution_count": 22,
     "metadata": {},
     "output_type": "execute_result"
    }
   ],
   "source": [
    "import shutil\n",
    "shutil.copytree('Untitled Folder', 'Untitled Folder1')\n"
   ]
  },
  {
   "cell_type": "code",
   "execution_count": null,
   "metadata": {},
   "outputs": [],
   "source": []
  }
 ],
 "metadata": {
  "kernelspec": {
   "display_name": "Python 3",
   "language": "python",
   "name": "python3"
  },
  "language_info": {
   "codemirror_mode": {
    "name": "ipython",
    "version": 3
   },
   "file_extension": ".py",
   "mimetype": "text/x-python",
   "name": "python",
   "nbconvert_exporter": "python",
   "pygments_lexer": "ipython3",
   "version": "3.7.1"
  }
 },
 "nbformat": 4,
 "nbformat_minor": 2
}
